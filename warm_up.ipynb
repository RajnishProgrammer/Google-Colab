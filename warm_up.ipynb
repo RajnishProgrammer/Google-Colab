{
  "cells": [
    {
      "cell_type": "markdown",
      "metadata": {
        "id": "view-in-github",
        "colab_type": "text"
      },
      "source": [
        "<a href=\"https://colab.research.google.com/github/RajnishProgrammer/Google-Colab/blob/main/warm_up.ipynb\" target=\"_parent\"><img src=\"https://colab.research.google.com/assets/colab-badge.svg\" alt=\"Open In Colab\"/></a>"
      ]
    },
    {
      "cell_type": "markdown",
      "source": [
        "⭐ [Machine Learning Engineer Google Road to Certification](https://www.youtube.com/playlist?list=PL7Zbc0rPt-TaMlUfMDK5a6x5quNTHdCkm)"
      ],
      "metadata": {
        "id": "eVKtQYlYiO0U"
      }
    },
    {
      "cell_type": "markdown",
      "source": [
        "#🚀 Top 10 Python Useful Scripts\n",
        "## Have Fun 😀"
      ],
      "metadata": {
        "id": "QgOs17qbJylv"
      }
    },
    {
      "cell_type": "markdown",
      "metadata": {
        "id": "d6K8o_MokH5L"
      },
      "source": [
        "##1. Pandas\n",
        "1. df.head()\n",
        "2. df.info()\n",
        "3. df.columns\n",
        "4. df.describe()\n",
        "5. df.tail()"
      ]
    },
    {
      "cell_type": "code",
      "execution_count": null,
      "metadata": {
        "id": "Bfpb3gS1kBLZ"
      },
      "outputs": [],
      "source": [
        "import pandas as pd\n",
        "data = pd.read_csv('./sample_data/mnist_train_small.csv')"
      ]
    },
    {
      "cell_type": "code",
      "execution_count": null,
      "metadata": {
        "colab": {
          "base_uri": "https://localhost:8080/",
          "height": 255
        },
        "id": "l-_RkO_9klk6",
        "outputId": "14d75156-59e8-4ec8-d573-0db96ece5068"
      },
      "outputs": [
        {
          "data": {
            "application/vnd.google.colaboratory.intrinsic+json": {
              "type": "dataframe",
              "variable_name": "data"
            },
            "text/html": [
              "\n",
              "  <div id=\"df-85d740ef-f0fb-404e-88bc-7c058656320d\" class=\"colab-df-container\">\n",
              "    <div>\n",
              "<style scoped>\n",
              "    .dataframe tbody tr th:only-of-type {\n",
              "        vertical-align: middle;\n",
              "    }\n",
              "\n",
              "    .dataframe tbody tr th {\n",
              "        vertical-align: top;\n",
              "    }\n",
              "\n",
              "    .dataframe thead th {\n",
              "        text-align: right;\n",
              "    }\n",
              "</style>\n",
              "<table border=\"1\" class=\"dataframe\">\n",
              "  <thead>\n",
              "    <tr style=\"text-align: right;\">\n",
              "      <th></th>\n",
              "      <th>6</th>\n",
              "      <th>0</th>\n",
              "      <th>0.1</th>\n",
              "      <th>0.2</th>\n",
              "      <th>0.3</th>\n",
              "      <th>0.4</th>\n",
              "      <th>0.5</th>\n",
              "      <th>0.6</th>\n",
              "      <th>0.7</th>\n",
              "      <th>0.8</th>\n",
              "      <th>...</th>\n",
              "      <th>0.581</th>\n",
              "      <th>0.582</th>\n",
              "      <th>0.583</th>\n",
              "      <th>0.584</th>\n",
              "      <th>0.585</th>\n",
              "      <th>0.586</th>\n",
              "      <th>0.587</th>\n",
              "      <th>0.588</th>\n",
              "      <th>0.589</th>\n",
              "      <th>0.590</th>\n",
              "    </tr>\n",
              "  </thead>\n",
              "  <tbody>\n",
              "    <tr>\n",
              "      <th>0</th>\n",
              "      <td>5</td>\n",
              "      <td>0</td>\n",
              "      <td>0</td>\n",
              "      <td>0</td>\n",
              "      <td>0</td>\n",
              "      <td>0</td>\n",
              "      <td>0</td>\n",
              "      <td>0</td>\n",
              "      <td>0</td>\n",
              "      <td>0</td>\n",
              "      <td>...</td>\n",
              "      <td>0</td>\n",
              "      <td>0</td>\n",
              "      <td>0</td>\n",
              "      <td>0</td>\n",
              "      <td>0</td>\n",
              "      <td>0</td>\n",
              "      <td>0</td>\n",
              "      <td>0</td>\n",
              "      <td>0</td>\n",
              "      <td>0</td>\n",
              "    </tr>\n",
              "    <tr>\n",
              "      <th>1</th>\n",
              "      <td>7</td>\n",
              "      <td>0</td>\n",
              "      <td>0</td>\n",
              "      <td>0</td>\n",
              "      <td>0</td>\n",
              "      <td>0</td>\n",
              "      <td>0</td>\n",
              "      <td>0</td>\n",
              "      <td>0</td>\n",
              "      <td>0</td>\n",
              "      <td>...</td>\n",
              "      <td>0</td>\n",
              "      <td>0</td>\n",
              "      <td>0</td>\n",
              "      <td>0</td>\n",
              "      <td>0</td>\n",
              "      <td>0</td>\n",
              "      <td>0</td>\n",
              "      <td>0</td>\n",
              "      <td>0</td>\n",
              "      <td>0</td>\n",
              "    </tr>\n",
              "    <tr>\n",
              "      <th>2</th>\n",
              "      <td>9</td>\n",
              "      <td>0</td>\n",
              "      <td>0</td>\n",
              "      <td>0</td>\n",
              "      <td>0</td>\n",
              "      <td>0</td>\n",
              "      <td>0</td>\n",
              "      <td>0</td>\n",
              "      <td>0</td>\n",
              "      <td>0</td>\n",
              "      <td>...</td>\n",
              "      <td>0</td>\n",
              "      <td>0</td>\n",
              "      <td>0</td>\n",
              "      <td>0</td>\n",
              "      <td>0</td>\n",
              "      <td>0</td>\n",
              "      <td>0</td>\n",
              "      <td>0</td>\n",
              "      <td>0</td>\n",
              "      <td>0</td>\n",
              "    </tr>\n",
              "    <tr>\n",
              "      <th>3</th>\n",
              "      <td>5</td>\n",
              "      <td>0</td>\n",
              "      <td>0</td>\n",
              "      <td>0</td>\n",
              "      <td>0</td>\n",
              "      <td>0</td>\n",
              "      <td>0</td>\n",
              "      <td>0</td>\n",
              "      <td>0</td>\n",
              "      <td>0</td>\n",
              "      <td>...</td>\n",
              "      <td>0</td>\n",
              "      <td>0</td>\n",
              "      <td>0</td>\n",
              "      <td>0</td>\n",
              "      <td>0</td>\n",
              "      <td>0</td>\n",
              "      <td>0</td>\n",
              "      <td>0</td>\n",
              "      <td>0</td>\n",
              "      <td>0</td>\n",
              "    </tr>\n",
              "    <tr>\n",
              "      <th>4</th>\n",
              "      <td>2</td>\n",
              "      <td>0</td>\n",
              "      <td>0</td>\n",
              "      <td>0</td>\n",
              "      <td>0</td>\n",
              "      <td>0</td>\n",
              "      <td>0</td>\n",
              "      <td>0</td>\n",
              "      <td>0</td>\n",
              "      <td>0</td>\n",
              "      <td>...</td>\n",
              "      <td>0</td>\n",
              "      <td>0</td>\n",
              "      <td>0</td>\n",
              "      <td>0</td>\n",
              "      <td>0</td>\n",
              "      <td>0</td>\n",
              "      <td>0</td>\n",
              "      <td>0</td>\n",
              "      <td>0</td>\n",
              "      <td>0</td>\n",
              "    </tr>\n",
              "  </tbody>\n",
              "</table>\n",
              "<p>5 rows × 785 columns</p>\n",
              "</div>\n",
              "    <div class=\"colab-df-buttons\">\n",
              "\n",
              "  <div class=\"colab-df-container\">\n",
              "    <button class=\"colab-df-convert\" onclick=\"convertToInteractive('df-85d740ef-f0fb-404e-88bc-7c058656320d')\"\n",
              "            title=\"Convert this dataframe to an interactive table.\"\n",
              "            style=\"display:none;\">\n",
              "\n",
              "  <svg xmlns=\"http://www.w3.org/2000/svg\" height=\"24px\" viewBox=\"0 -960 960 960\">\n",
              "    <path d=\"M120-120v-720h720v720H120Zm60-500h600v-160H180v160Zm220 220h160v-160H400v160Zm0 220h160v-160H400v160ZM180-400h160v-160H180v160Zm440 0h160v-160H620v160ZM180-180h160v-160H180v160Zm440 0h160v-160H620v160Z\"/>\n",
              "  </svg>\n",
              "    </button>\n",
              "\n",
              "  <style>\n",
              "    .colab-df-container {\n",
              "      display:flex;\n",
              "      gap: 12px;\n",
              "    }\n",
              "\n",
              "    .colab-df-convert {\n",
              "      background-color: #E8F0FE;\n",
              "      border: none;\n",
              "      border-radius: 50%;\n",
              "      cursor: pointer;\n",
              "      display: none;\n",
              "      fill: #1967D2;\n",
              "      height: 32px;\n",
              "      padding: 0 0 0 0;\n",
              "      width: 32px;\n",
              "    }\n",
              "\n",
              "    .colab-df-convert:hover {\n",
              "      background-color: #E2EBFA;\n",
              "      box-shadow: 0px 1px 2px rgba(60, 64, 67, 0.3), 0px 1px 3px 1px rgba(60, 64, 67, 0.15);\n",
              "      fill: #174EA6;\n",
              "    }\n",
              "\n",
              "    .colab-df-buttons div {\n",
              "      margin-bottom: 4px;\n",
              "    }\n",
              "\n",
              "    [theme=dark] .colab-df-convert {\n",
              "      background-color: #3B4455;\n",
              "      fill: #D2E3FC;\n",
              "    }\n",
              "\n",
              "    [theme=dark] .colab-df-convert:hover {\n",
              "      background-color: #434B5C;\n",
              "      box-shadow: 0px 1px 3px 1px rgba(0, 0, 0, 0.15);\n",
              "      filter: drop-shadow(0px 1px 2px rgba(0, 0, 0, 0.3));\n",
              "      fill: #FFFFFF;\n",
              "    }\n",
              "  </style>\n",
              "\n",
              "    <script>\n",
              "      const buttonEl =\n",
              "        document.querySelector('#df-85d740ef-f0fb-404e-88bc-7c058656320d button.colab-df-convert');\n",
              "      buttonEl.style.display =\n",
              "        google.colab.kernel.accessAllowed ? 'block' : 'none';\n",
              "\n",
              "      async function convertToInteractive(key) {\n",
              "        const element = document.querySelector('#df-85d740ef-f0fb-404e-88bc-7c058656320d');\n",
              "        const dataTable =\n",
              "          await google.colab.kernel.invokeFunction('convertToInteractive',\n",
              "                                                    [key], {});\n",
              "        if (!dataTable) return;\n",
              "\n",
              "        const docLinkHtml = 'Like what you see? Visit the ' +\n",
              "          '<a target=\"_blank\" href=https://colab.research.google.com/notebooks/data_table.ipynb>data table notebook</a>'\n",
              "          + ' to learn more about interactive tables.';\n",
              "        element.innerHTML = '';\n",
              "        dataTable['output_type'] = 'display_data';\n",
              "        await google.colab.output.renderOutput(dataTable, element);\n",
              "        const docLink = document.createElement('div');\n",
              "        docLink.innerHTML = docLinkHtml;\n",
              "        element.appendChild(docLink);\n",
              "      }\n",
              "    </script>\n",
              "  </div>\n",
              "\n",
              "\n",
              "<div id=\"df-79eb8dc8-e732-441c-829c-ccd54a6de9ec\">\n",
              "  <button class=\"colab-df-quickchart\" onclick=\"quickchart('df-79eb8dc8-e732-441c-829c-ccd54a6de9ec')\"\n",
              "            title=\"Suggest charts\"\n",
              "            style=\"display:none;\">\n",
              "\n",
              "<svg xmlns=\"http://www.w3.org/2000/svg\" height=\"24px\"viewBox=\"0 0 24 24\"\n",
              "     width=\"24px\">\n",
              "    <g>\n",
              "        <path d=\"M19 3H5c-1.1 0-2 .9-2 2v14c0 1.1.9 2 2 2h14c1.1 0 2-.9 2-2V5c0-1.1-.9-2-2-2zM9 17H7v-7h2v7zm4 0h-2V7h2v10zm4 0h-2v-4h2v4z\"/>\n",
              "    </g>\n",
              "</svg>\n",
              "  </button>\n",
              "\n",
              "<style>\n",
              "  .colab-df-quickchart {\n",
              "      --bg-color: #E8F0FE;\n",
              "      --fill-color: #1967D2;\n",
              "      --hover-bg-color: #E2EBFA;\n",
              "      --hover-fill-color: #174EA6;\n",
              "      --disabled-fill-color: #AAA;\n",
              "      --disabled-bg-color: #DDD;\n",
              "  }\n",
              "\n",
              "  [theme=dark] .colab-df-quickchart {\n",
              "      --bg-color: #3B4455;\n",
              "      --fill-color: #D2E3FC;\n",
              "      --hover-bg-color: #434B5C;\n",
              "      --hover-fill-color: #FFFFFF;\n",
              "      --disabled-bg-color: #3B4455;\n",
              "      --disabled-fill-color: #666;\n",
              "  }\n",
              "\n",
              "  .colab-df-quickchart {\n",
              "    background-color: var(--bg-color);\n",
              "    border: none;\n",
              "    border-radius: 50%;\n",
              "    cursor: pointer;\n",
              "    display: none;\n",
              "    fill: var(--fill-color);\n",
              "    height: 32px;\n",
              "    padding: 0;\n",
              "    width: 32px;\n",
              "  }\n",
              "\n",
              "  .colab-df-quickchart:hover {\n",
              "    background-color: var(--hover-bg-color);\n",
              "    box-shadow: 0 1px 2px rgba(60, 64, 67, 0.3), 0 1px 3px 1px rgba(60, 64, 67, 0.15);\n",
              "    fill: var(--button-hover-fill-color);\n",
              "  }\n",
              "\n",
              "  .colab-df-quickchart-complete:disabled,\n",
              "  .colab-df-quickchart-complete:disabled:hover {\n",
              "    background-color: var(--disabled-bg-color);\n",
              "    fill: var(--disabled-fill-color);\n",
              "    box-shadow: none;\n",
              "  }\n",
              "\n",
              "  .colab-df-spinner {\n",
              "    border: 2px solid var(--fill-color);\n",
              "    border-color: transparent;\n",
              "    border-bottom-color: var(--fill-color);\n",
              "    animation:\n",
              "      spin 1s steps(1) infinite;\n",
              "  }\n",
              "\n",
              "  @keyframes spin {\n",
              "    0% {\n",
              "      border-color: transparent;\n",
              "      border-bottom-color: var(--fill-color);\n",
              "      border-left-color: var(--fill-color);\n",
              "    }\n",
              "    20% {\n",
              "      border-color: transparent;\n",
              "      border-left-color: var(--fill-color);\n",
              "      border-top-color: var(--fill-color);\n",
              "    }\n",
              "    30% {\n",
              "      border-color: transparent;\n",
              "      border-left-color: var(--fill-color);\n",
              "      border-top-color: var(--fill-color);\n",
              "      border-right-color: var(--fill-color);\n",
              "    }\n",
              "    40% {\n",
              "      border-color: transparent;\n",
              "      border-right-color: var(--fill-color);\n",
              "      border-top-color: var(--fill-color);\n",
              "    }\n",
              "    60% {\n",
              "      border-color: transparent;\n",
              "      border-right-color: var(--fill-color);\n",
              "    }\n",
              "    80% {\n",
              "      border-color: transparent;\n",
              "      border-right-color: var(--fill-color);\n",
              "      border-bottom-color: var(--fill-color);\n",
              "    }\n",
              "    90% {\n",
              "      border-color: transparent;\n",
              "      border-bottom-color: var(--fill-color);\n",
              "    }\n",
              "  }\n",
              "</style>\n",
              "\n",
              "  <script>\n",
              "    async function quickchart(key) {\n",
              "      const quickchartButtonEl =\n",
              "        document.querySelector('#' + key + ' button');\n",
              "      quickchartButtonEl.disabled = true;  // To prevent multiple clicks.\n",
              "      quickchartButtonEl.classList.add('colab-df-spinner');\n",
              "      try {\n",
              "        const charts = await google.colab.kernel.invokeFunction(\n",
              "            'suggestCharts', [key], {});\n",
              "      } catch (error) {\n",
              "        console.error('Error during call to suggestCharts:', error);\n",
              "      }\n",
              "      quickchartButtonEl.classList.remove('colab-df-spinner');\n",
              "      quickchartButtonEl.classList.add('colab-df-quickchart-complete');\n",
              "    }\n",
              "    (() => {\n",
              "      let quickchartButtonEl =\n",
              "        document.querySelector('#df-79eb8dc8-e732-441c-829c-ccd54a6de9ec button');\n",
              "      quickchartButtonEl.style.display =\n",
              "        google.colab.kernel.accessAllowed ? 'block' : 'none';\n",
              "    })();\n",
              "  </script>\n",
              "</div>\n",
              "\n",
              "    </div>\n",
              "  </div>\n"
            ],
            "text/plain": [
              "   6  0  0.1  0.2  0.3  0.4  0.5  0.6  0.7  0.8  ...  0.581  0.582  0.583  \\\n",
              "0  5  0    0    0    0    0    0    0    0    0  ...      0      0      0   \n",
              "1  7  0    0    0    0    0    0    0    0    0  ...      0      0      0   \n",
              "2  9  0    0    0    0    0    0    0    0    0  ...      0      0      0   \n",
              "3  5  0    0    0    0    0    0    0    0    0  ...      0      0      0   \n",
              "4  2  0    0    0    0    0    0    0    0    0  ...      0      0      0   \n",
              "\n",
              "   0.584  0.585  0.586  0.587  0.588  0.589  0.590  \n",
              "0      0      0      0      0      0      0      0  \n",
              "1      0      0      0      0      0      0      0  \n",
              "2      0      0      0      0      0      0      0  \n",
              "3      0      0      0      0      0      0      0  \n",
              "4      0      0      0      0      0      0      0  \n",
              "\n",
              "[5 rows x 785 columns]"
            ]
          },
          "execution_count": 2,
          "metadata": {},
          "output_type": "execute_result"
        }
      ],
      "source": [
        "data.head()"
      ]
    },
    {
      "cell_type": "code",
      "execution_count": null,
      "metadata": {
        "colab": {
          "base_uri": "https://localhost:8080/"
        },
        "id": "yVk2B4Ekkomy",
        "outputId": "6bc3d7b1-780f-4758-d706-29272529d5a3"
      },
      "outputs": [
        {
          "name": "stdout",
          "output_type": "stream",
          "text": [
            "<class 'pandas.core.frame.DataFrame'>\n",
            "RangeIndex: 19999 entries, 0 to 19998\n",
            "Columns: 785 entries, 6 to 0.590\n",
            "dtypes: int64(785)\n",
            "memory usage: 119.8 MB\n"
          ]
        }
      ],
      "source": [
        "data.info()"
      ]
    },
    {
      "cell_type": "code",
      "execution_count": null,
      "metadata": {
        "colab": {
          "base_uri": "https://localhost:8080/",
          "height": 349
        },
        "id": "beGf-XVfk0dj",
        "outputId": "3a250164-7a85-4375-d16a-bf193e6f21ce"
      },
      "outputs": [
        {
          "data": {
            "application/vnd.google.colaboratory.intrinsic+json": {
              "type": "dataframe"
            },
            "text/html": [
              "\n",
              "  <div id=\"df-10951894-5c82-4241-8ce3-13f257a09e25\" class=\"colab-df-container\">\n",
              "    <div>\n",
              "<style scoped>\n",
              "    .dataframe tbody tr th:only-of-type {\n",
              "        vertical-align: middle;\n",
              "    }\n",
              "\n",
              "    .dataframe tbody tr th {\n",
              "        vertical-align: top;\n",
              "    }\n",
              "\n",
              "    .dataframe thead th {\n",
              "        text-align: right;\n",
              "    }\n",
              "</style>\n",
              "<table border=\"1\" class=\"dataframe\">\n",
              "  <thead>\n",
              "    <tr style=\"text-align: right;\">\n",
              "      <th></th>\n",
              "      <th>6</th>\n",
              "      <th>0</th>\n",
              "      <th>0.1</th>\n",
              "      <th>0.2</th>\n",
              "      <th>0.3</th>\n",
              "      <th>0.4</th>\n",
              "      <th>0.5</th>\n",
              "      <th>0.6</th>\n",
              "      <th>0.7</th>\n",
              "      <th>0.8</th>\n",
              "      <th>...</th>\n",
              "      <th>0.581</th>\n",
              "      <th>0.582</th>\n",
              "      <th>0.583</th>\n",
              "      <th>0.584</th>\n",
              "      <th>0.585</th>\n",
              "      <th>0.586</th>\n",
              "      <th>0.587</th>\n",
              "      <th>0.588</th>\n",
              "      <th>0.589</th>\n",
              "      <th>0.590</th>\n",
              "    </tr>\n",
              "  </thead>\n",
              "  <tbody>\n",
              "    <tr>\n",
              "      <th>count</th>\n",
              "      <td>19999.000000</td>\n",
              "      <td>19999.0</td>\n",
              "      <td>19999.0</td>\n",
              "      <td>19999.0</td>\n",
              "      <td>19999.0</td>\n",
              "      <td>19999.0</td>\n",
              "      <td>19999.0</td>\n",
              "      <td>19999.0</td>\n",
              "      <td>19999.0</td>\n",
              "      <td>19999.0</td>\n",
              "      <td>...</td>\n",
              "      <td>19999.000000</td>\n",
              "      <td>19999.000000</td>\n",
              "      <td>19999.000000</td>\n",
              "      <td>19999.000000</td>\n",
              "      <td>19999.000000</td>\n",
              "      <td>19999.000000</td>\n",
              "      <td>19999.0</td>\n",
              "      <td>19999.0</td>\n",
              "      <td>19999.0</td>\n",
              "      <td>19999.0</td>\n",
              "    </tr>\n",
              "    <tr>\n",
              "      <th>mean</th>\n",
              "      <td>4.470124</td>\n",
              "      <td>0.0</td>\n",
              "      <td>0.0</td>\n",
              "      <td>0.0</td>\n",
              "      <td>0.0</td>\n",
              "      <td>0.0</td>\n",
              "      <td>0.0</td>\n",
              "      <td>0.0</td>\n",
              "      <td>0.0</td>\n",
              "      <td>0.0</td>\n",
              "      <td>...</td>\n",
              "      <td>0.215011</td>\n",
              "      <td>0.087704</td>\n",
              "      <td>0.036502</td>\n",
              "      <td>0.013651</td>\n",
              "      <td>0.032602</td>\n",
              "      <td>0.006000</td>\n",
              "      <td>0.0</td>\n",
              "      <td>0.0</td>\n",
              "      <td>0.0</td>\n",
              "      <td>0.0</td>\n",
              "    </tr>\n",
              "    <tr>\n",
              "      <th>std</th>\n",
              "      <td>2.892807</td>\n",
              "      <td>0.0</td>\n",
              "      <td>0.0</td>\n",
              "      <td>0.0</td>\n",
              "      <td>0.0</td>\n",
              "      <td>0.0</td>\n",
              "      <td>0.0</td>\n",
              "      <td>0.0</td>\n",
              "      <td>0.0</td>\n",
              "      <td>0.0</td>\n",
              "      <td>...</td>\n",
              "      <td>6.314821</td>\n",
              "      <td>3.921664</td>\n",
              "      <td>2.712527</td>\n",
              "      <td>0.950818</td>\n",
              "      <td>2.718102</td>\n",
              "      <td>0.600333</td>\n",
              "      <td>0.0</td>\n",
              "      <td>0.0</td>\n",
              "      <td>0.0</td>\n",
              "      <td>0.0</td>\n",
              "    </tr>\n",
              "    <tr>\n",
              "      <th>min</th>\n",
              "      <td>0.000000</td>\n",
              "      <td>0.0</td>\n",
              "      <td>0.0</td>\n",
              "      <td>0.0</td>\n",
              "      <td>0.0</td>\n",
              "      <td>0.0</td>\n",
              "      <td>0.0</td>\n",
              "      <td>0.0</td>\n",
              "      <td>0.0</td>\n",
              "      <td>0.0</td>\n",
              "      <td>...</td>\n",
              "      <td>0.000000</td>\n",
              "      <td>0.000000</td>\n",
              "      <td>0.000000</td>\n",
              "      <td>0.000000</td>\n",
              "      <td>0.000000</td>\n",
              "      <td>0.000000</td>\n",
              "      <td>0.0</td>\n",
              "      <td>0.0</td>\n",
              "      <td>0.0</td>\n",
              "      <td>0.0</td>\n",
              "    </tr>\n",
              "    <tr>\n",
              "      <th>25%</th>\n",
              "      <td>2.000000</td>\n",
              "      <td>0.0</td>\n",
              "      <td>0.0</td>\n",
              "      <td>0.0</td>\n",
              "      <td>0.0</td>\n",
              "      <td>0.0</td>\n",
              "      <td>0.0</td>\n",
              "      <td>0.0</td>\n",
              "      <td>0.0</td>\n",
              "      <td>0.0</td>\n",
              "      <td>...</td>\n",
              "      <td>0.000000</td>\n",
              "      <td>0.000000</td>\n",
              "      <td>0.000000</td>\n",
              "      <td>0.000000</td>\n",
              "      <td>0.000000</td>\n",
              "      <td>0.000000</td>\n",
              "      <td>0.0</td>\n",
              "      <td>0.0</td>\n",
              "      <td>0.0</td>\n",
              "      <td>0.0</td>\n",
              "    </tr>\n",
              "    <tr>\n",
              "      <th>50%</th>\n",
              "      <td>4.000000</td>\n",
              "      <td>0.0</td>\n",
              "      <td>0.0</td>\n",
              "      <td>0.0</td>\n",
              "      <td>0.0</td>\n",
              "      <td>0.0</td>\n",
              "      <td>0.0</td>\n",
              "      <td>0.0</td>\n",
              "      <td>0.0</td>\n",
              "      <td>0.0</td>\n",
              "      <td>...</td>\n",
              "      <td>0.000000</td>\n",
              "      <td>0.000000</td>\n",
              "      <td>0.000000</td>\n",
              "      <td>0.000000</td>\n",
              "      <td>0.000000</td>\n",
              "      <td>0.000000</td>\n",
              "      <td>0.0</td>\n",
              "      <td>0.0</td>\n",
              "      <td>0.0</td>\n",
              "      <td>0.0</td>\n",
              "    </tr>\n",
              "    <tr>\n",
              "      <th>75%</th>\n",
              "      <td>7.000000</td>\n",
              "      <td>0.0</td>\n",
              "      <td>0.0</td>\n",
              "      <td>0.0</td>\n",
              "      <td>0.0</td>\n",
              "      <td>0.0</td>\n",
              "      <td>0.0</td>\n",
              "      <td>0.0</td>\n",
              "      <td>0.0</td>\n",
              "      <td>0.0</td>\n",
              "      <td>...</td>\n",
              "      <td>0.000000</td>\n",
              "      <td>0.000000</td>\n",
              "      <td>0.000000</td>\n",
              "      <td>0.000000</td>\n",
              "      <td>0.000000</td>\n",
              "      <td>0.000000</td>\n",
              "      <td>0.0</td>\n",
              "      <td>0.0</td>\n",
              "      <td>0.0</td>\n",
              "      <td>0.0</td>\n",
              "    </tr>\n",
              "    <tr>\n",
              "      <th>max</th>\n",
              "      <td>9.000000</td>\n",
              "      <td>0.0</td>\n",
              "      <td>0.0</td>\n",
              "      <td>0.0</td>\n",
              "      <td>0.0</td>\n",
              "      <td>0.0</td>\n",
              "      <td>0.0</td>\n",
              "      <td>0.0</td>\n",
              "      <td>0.0</td>\n",
              "      <td>0.0</td>\n",
              "      <td>...</td>\n",
              "      <td>253.000000</td>\n",
              "      <td>254.000000</td>\n",
              "      <td>253.000000</td>\n",
              "      <td>79.000000</td>\n",
              "      <td>254.000000</td>\n",
              "      <td>62.000000</td>\n",
              "      <td>0.0</td>\n",
              "      <td>0.0</td>\n",
              "      <td>0.0</td>\n",
              "      <td>0.0</td>\n",
              "    </tr>\n",
              "  </tbody>\n",
              "</table>\n",
              "<p>8 rows × 785 columns</p>\n",
              "</div>\n",
              "    <div class=\"colab-df-buttons\">\n",
              "\n",
              "  <div class=\"colab-df-container\">\n",
              "    <button class=\"colab-df-convert\" onclick=\"convertToInteractive('df-10951894-5c82-4241-8ce3-13f257a09e25')\"\n",
              "            title=\"Convert this dataframe to an interactive table.\"\n",
              "            style=\"display:none;\">\n",
              "\n",
              "  <svg xmlns=\"http://www.w3.org/2000/svg\" height=\"24px\" viewBox=\"0 -960 960 960\">\n",
              "    <path d=\"M120-120v-720h720v720H120Zm60-500h600v-160H180v160Zm220 220h160v-160H400v160Zm0 220h160v-160H400v160ZM180-400h160v-160H180v160Zm440 0h160v-160H620v160ZM180-180h160v-160H180v160Zm440 0h160v-160H620v160Z\"/>\n",
              "  </svg>\n",
              "    </button>\n",
              "\n",
              "  <style>\n",
              "    .colab-df-container {\n",
              "      display:flex;\n",
              "      gap: 12px;\n",
              "    }\n",
              "\n",
              "    .colab-df-convert {\n",
              "      background-color: #E8F0FE;\n",
              "      border: none;\n",
              "      border-radius: 50%;\n",
              "      cursor: pointer;\n",
              "      display: none;\n",
              "      fill: #1967D2;\n",
              "      height: 32px;\n",
              "      padding: 0 0 0 0;\n",
              "      width: 32px;\n",
              "    }\n",
              "\n",
              "    .colab-df-convert:hover {\n",
              "      background-color: #E2EBFA;\n",
              "      box-shadow: 0px 1px 2px rgba(60, 64, 67, 0.3), 0px 1px 3px 1px rgba(60, 64, 67, 0.15);\n",
              "      fill: #174EA6;\n",
              "    }\n",
              "\n",
              "    .colab-df-buttons div {\n",
              "      margin-bottom: 4px;\n",
              "    }\n",
              "\n",
              "    [theme=dark] .colab-df-convert {\n",
              "      background-color: #3B4455;\n",
              "      fill: #D2E3FC;\n",
              "    }\n",
              "\n",
              "    [theme=dark] .colab-df-convert:hover {\n",
              "      background-color: #434B5C;\n",
              "      box-shadow: 0px 1px 3px 1px rgba(0, 0, 0, 0.15);\n",
              "      filter: drop-shadow(0px 1px 2px rgba(0, 0, 0, 0.3));\n",
              "      fill: #FFFFFF;\n",
              "    }\n",
              "  </style>\n",
              "\n",
              "    <script>\n",
              "      const buttonEl =\n",
              "        document.querySelector('#df-10951894-5c82-4241-8ce3-13f257a09e25 button.colab-df-convert');\n",
              "      buttonEl.style.display =\n",
              "        google.colab.kernel.accessAllowed ? 'block' : 'none';\n",
              "\n",
              "      async function convertToInteractive(key) {\n",
              "        const element = document.querySelector('#df-10951894-5c82-4241-8ce3-13f257a09e25');\n",
              "        const dataTable =\n",
              "          await google.colab.kernel.invokeFunction('convertToInteractive',\n",
              "                                                    [key], {});\n",
              "        if (!dataTable) return;\n",
              "\n",
              "        const docLinkHtml = 'Like what you see? Visit the ' +\n",
              "          '<a target=\"_blank\" href=https://colab.research.google.com/notebooks/data_table.ipynb>data table notebook</a>'\n",
              "          + ' to learn more about interactive tables.';\n",
              "        element.innerHTML = '';\n",
              "        dataTable['output_type'] = 'display_data';\n",
              "        await google.colab.output.renderOutput(dataTable, element);\n",
              "        const docLink = document.createElement('div');\n",
              "        docLink.innerHTML = docLinkHtml;\n",
              "        element.appendChild(docLink);\n",
              "      }\n",
              "    </script>\n",
              "  </div>\n",
              "\n",
              "\n",
              "<div id=\"df-1171d27b-e341-4620-8d0f-c8491b67ba57\">\n",
              "  <button class=\"colab-df-quickchart\" onclick=\"quickchart('df-1171d27b-e341-4620-8d0f-c8491b67ba57')\"\n",
              "            title=\"Suggest charts\"\n",
              "            style=\"display:none;\">\n",
              "\n",
              "<svg xmlns=\"http://www.w3.org/2000/svg\" height=\"24px\"viewBox=\"0 0 24 24\"\n",
              "     width=\"24px\">\n",
              "    <g>\n",
              "        <path d=\"M19 3H5c-1.1 0-2 .9-2 2v14c0 1.1.9 2 2 2h14c1.1 0 2-.9 2-2V5c0-1.1-.9-2-2-2zM9 17H7v-7h2v7zm4 0h-2V7h2v10zm4 0h-2v-4h2v4z\"/>\n",
              "    </g>\n",
              "</svg>\n",
              "  </button>\n",
              "\n",
              "<style>\n",
              "  .colab-df-quickchart {\n",
              "      --bg-color: #E8F0FE;\n",
              "      --fill-color: #1967D2;\n",
              "      --hover-bg-color: #E2EBFA;\n",
              "      --hover-fill-color: #174EA6;\n",
              "      --disabled-fill-color: #AAA;\n",
              "      --disabled-bg-color: #DDD;\n",
              "  }\n",
              "\n",
              "  [theme=dark] .colab-df-quickchart {\n",
              "      --bg-color: #3B4455;\n",
              "      --fill-color: #D2E3FC;\n",
              "      --hover-bg-color: #434B5C;\n",
              "      --hover-fill-color: #FFFFFF;\n",
              "      --disabled-bg-color: #3B4455;\n",
              "      --disabled-fill-color: #666;\n",
              "  }\n",
              "\n",
              "  .colab-df-quickchart {\n",
              "    background-color: var(--bg-color);\n",
              "    border: none;\n",
              "    border-radius: 50%;\n",
              "    cursor: pointer;\n",
              "    display: none;\n",
              "    fill: var(--fill-color);\n",
              "    height: 32px;\n",
              "    padding: 0;\n",
              "    width: 32px;\n",
              "  }\n",
              "\n",
              "  .colab-df-quickchart:hover {\n",
              "    background-color: var(--hover-bg-color);\n",
              "    box-shadow: 0 1px 2px rgba(60, 64, 67, 0.3), 0 1px 3px 1px rgba(60, 64, 67, 0.15);\n",
              "    fill: var(--button-hover-fill-color);\n",
              "  }\n",
              "\n",
              "  .colab-df-quickchart-complete:disabled,\n",
              "  .colab-df-quickchart-complete:disabled:hover {\n",
              "    background-color: var(--disabled-bg-color);\n",
              "    fill: var(--disabled-fill-color);\n",
              "    box-shadow: none;\n",
              "  }\n",
              "\n",
              "  .colab-df-spinner {\n",
              "    border: 2px solid var(--fill-color);\n",
              "    border-color: transparent;\n",
              "    border-bottom-color: var(--fill-color);\n",
              "    animation:\n",
              "      spin 1s steps(1) infinite;\n",
              "  }\n",
              "\n",
              "  @keyframes spin {\n",
              "    0% {\n",
              "      border-color: transparent;\n",
              "      border-bottom-color: var(--fill-color);\n",
              "      border-left-color: var(--fill-color);\n",
              "    }\n",
              "    20% {\n",
              "      border-color: transparent;\n",
              "      border-left-color: var(--fill-color);\n",
              "      border-top-color: var(--fill-color);\n",
              "    }\n",
              "    30% {\n",
              "      border-color: transparent;\n",
              "      border-left-color: var(--fill-color);\n",
              "      border-top-color: var(--fill-color);\n",
              "      border-right-color: var(--fill-color);\n",
              "    }\n",
              "    40% {\n",
              "      border-color: transparent;\n",
              "      border-right-color: var(--fill-color);\n",
              "      border-top-color: var(--fill-color);\n",
              "    }\n",
              "    60% {\n",
              "      border-color: transparent;\n",
              "      border-right-color: var(--fill-color);\n",
              "    }\n",
              "    80% {\n",
              "      border-color: transparent;\n",
              "      border-right-color: var(--fill-color);\n",
              "      border-bottom-color: var(--fill-color);\n",
              "    }\n",
              "    90% {\n",
              "      border-color: transparent;\n",
              "      border-bottom-color: var(--fill-color);\n",
              "    }\n",
              "  }\n",
              "</style>\n",
              "\n",
              "  <script>\n",
              "    async function quickchart(key) {\n",
              "      const quickchartButtonEl =\n",
              "        document.querySelector('#' + key + ' button');\n",
              "      quickchartButtonEl.disabled = true;  // To prevent multiple clicks.\n",
              "      quickchartButtonEl.classList.add('colab-df-spinner');\n",
              "      try {\n",
              "        const charts = await google.colab.kernel.invokeFunction(\n",
              "            'suggestCharts', [key], {});\n",
              "      } catch (error) {\n",
              "        console.error('Error during call to suggestCharts:', error);\n",
              "      }\n",
              "      quickchartButtonEl.classList.remove('colab-df-spinner');\n",
              "      quickchartButtonEl.classList.add('colab-df-quickchart-complete');\n",
              "    }\n",
              "    (() => {\n",
              "      let quickchartButtonEl =\n",
              "        document.querySelector('#df-1171d27b-e341-4620-8d0f-c8491b67ba57 button');\n",
              "      quickchartButtonEl.style.display =\n",
              "        google.colab.kernel.accessAllowed ? 'block' : 'none';\n",
              "    })();\n",
              "  </script>\n",
              "</div>\n",
              "\n",
              "    </div>\n",
              "  </div>\n"
            ],
            "text/plain": [
              "                  6        0      0.1      0.2      0.3      0.4      0.5  \\\n",
              "count  19999.000000  19999.0  19999.0  19999.0  19999.0  19999.0  19999.0   \n",
              "mean       4.470124      0.0      0.0      0.0      0.0      0.0      0.0   \n",
              "std        2.892807      0.0      0.0      0.0      0.0      0.0      0.0   \n",
              "min        0.000000      0.0      0.0      0.0      0.0      0.0      0.0   \n",
              "25%        2.000000      0.0      0.0      0.0      0.0      0.0      0.0   \n",
              "50%        4.000000      0.0      0.0      0.0      0.0      0.0      0.0   \n",
              "75%        7.000000      0.0      0.0      0.0      0.0      0.0      0.0   \n",
              "max        9.000000      0.0      0.0      0.0      0.0      0.0      0.0   \n",
              "\n",
              "           0.6      0.7      0.8  ...         0.581         0.582  \\\n",
              "count  19999.0  19999.0  19999.0  ...  19999.000000  19999.000000   \n",
              "mean       0.0      0.0      0.0  ...      0.215011      0.087704   \n",
              "std        0.0      0.0      0.0  ...      6.314821      3.921664   \n",
              "min        0.0      0.0      0.0  ...      0.000000      0.000000   \n",
              "25%        0.0      0.0      0.0  ...      0.000000      0.000000   \n",
              "50%        0.0      0.0      0.0  ...      0.000000      0.000000   \n",
              "75%        0.0      0.0      0.0  ...      0.000000      0.000000   \n",
              "max        0.0      0.0      0.0  ...    253.000000    254.000000   \n",
              "\n",
              "              0.583         0.584         0.585         0.586    0.587  \\\n",
              "count  19999.000000  19999.000000  19999.000000  19999.000000  19999.0   \n",
              "mean       0.036502      0.013651      0.032602      0.006000      0.0   \n",
              "std        2.712527      0.950818      2.718102      0.600333      0.0   \n",
              "min        0.000000      0.000000      0.000000      0.000000      0.0   \n",
              "25%        0.000000      0.000000      0.000000      0.000000      0.0   \n",
              "50%        0.000000      0.000000      0.000000      0.000000      0.0   \n",
              "75%        0.000000      0.000000      0.000000      0.000000      0.0   \n",
              "max      253.000000     79.000000    254.000000     62.000000      0.0   \n",
              "\n",
              "         0.588    0.589    0.590  \n",
              "count  19999.0  19999.0  19999.0  \n",
              "mean       0.0      0.0      0.0  \n",
              "std        0.0      0.0      0.0  \n",
              "min        0.0      0.0      0.0  \n",
              "25%        0.0      0.0      0.0  \n",
              "50%        0.0      0.0      0.0  \n",
              "75%        0.0      0.0      0.0  \n",
              "max        0.0      0.0      0.0  \n",
              "\n",
              "[8 rows x 785 columns]"
            ]
          },
          "execution_count": 6,
          "metadata": {},
          "output_type": "execute_result"
        }
      ],
      "source": [
        "data.describe()"
      ]
    },
    {
      "cell_type": "code",
      "execution_count": null,
      "metadata": {
        "colab": {
          "base_uri": "https://localhost:8080/"
        },
        "id": "kamKXHD9lAqQ",
        "outputId": "9f104a0e-5bf3-44b4-fa56-55fb8ca3dc3e"
      },
      "outputs": [
        {
          "data": {
            "text/plain": [
              "Index(['6', '0', '0.1', '0.2', '0.3', '0.4', '0.5', '0.6', '0.7', '0.8',\n",
              "       ...\n",
              "       '0.581', '0.582', '0.583', '0.584', '0.585', '0.586', '0.587', '0.588',\n",
              "       '0.589', '0.590'],\n",
              "      dtype='object', length=785)"
            ]
          },
          "execution_count": 7,
          "metadata": {},
          "output_type": "execute_result"
        }
      ],
      "source": [
        "data.columns"
      ]
    },
    {
      "cell_type": "markdown",
      "metadata": {
        "id": "BB7vcpkTlihB"
      },
      "source": [
        "##2. BeautifulSoup"
      ]
    },
    {
      "cell_type": "code",
      "execution_count": null,
      "metadata": {
        "id": "0yDWa-cBlZ_Q"
      },
      "outputs": [],
      "source": [
        "import requests\n",
        "from bs4 import BeautifulSoup"
      ]
    },
    {
      "cell_type": "markdown",
      "metadata": {
        "id": "qQ1h-kk5r0Ks"
      },
      "source": [
        "### This is static content scraping !!"
      ]
    },
    {
      "cell_type": "code",
      "execution_count": null,
      "metadata": {
        "id": "lREx80-blucF"
      },
      "outputs": [],
      "source": [
        "url = \"https://www.google.com/search?q=top+10+python+libraries&sca_esv=3c12e2eb7b7f70e3&sxsrf=ADLYWII23MZg42YKO-cIuWY-0DGIhO_KxQ%3A1737391407557&source=hp&ei=L32OZ4qDIJn51e8PvbS3oQg&iflsig=AL9hbdgAAAAAZ46LP0jT4horFkiPf0y10lplCHQR3yzk&oq=top+10+&gs_lp=Egdnd3Mtd2l6GgIYAyIHdG9wIDEwICoCCAAyCxAAGIAEGJECGIoFMgsQABiABBiRAhiKBTILEAAYgAQYkQIYigUyCxAAGIAEGJECGIoFMggQABiABBixAzIFEAAYgAQyCBAAGIAEGLEDMggQABiABBixAzILEAAYgAQYsQMYiwMyCxAAGIAEGLEDGIsDSNWkAVAAWIyQAXAZeACQAQKYAY8CoAGlIKoBBjAuMTguNrgBAcgBAPgBAZgCLqAC8hyoAgrCAgoQIxiABBgnGIoFwgIQEAAYgAQYsQMYQxiDARiKBcICFhAuGIAEGLEDGNEDGEMYgwEYxwEYigXCAg0QABiABBixAxhDGIoFwgILEAAYgAQYsQMYgwHCAgoQABiABBhDGIoFwgILEC4YgAQYsQMYgwHCAggQLhiABBixA8ICDhAAGIAEGLEDGIMBGIsDwgIIEAAYgAQYiwPCAhQQLhiABBimAxjHARioAxiLAxivAcICBxAjGCcY6gLCAhcQLhiABBixAxiDARioAxiKBRiLAxibA8ICERAuGIAEGJgDGKgDGJoDGIsDwgIPECMYgAQYJxiKBRhGGP8BwgITEC4YgAQYsQMY0QMYQxjHARiKBcICDhAuGIAEGLEDGNEDGMcBwgIQEC4YgAQYsQMYQxiDARiKBcICCxAuGIAEGMcBGK8BwgIREC4YgAQYsQMY0QMYgwEYxwHCAg0QLhiABBjRAxjHARgKwgIHEC4YgAQYCsICBxAAGIAEGArCAg0QLhiABBjHARgKGK8BwgIKEAAYgAQYsQMYCsICExAuGIAEGLEDGNEDGIMBGMcBGArCAgQQIxgnwgIKEC4YgAQYJxiKBcICBBAAGAPCAg0QLhiABBhDGNQCGIoFwgITEAAYgAQYkQIYsQMYigUYRhj5AcICCxAuGIAEGLEDGNQCwgILEAAYgAQYsQMYigXCAg4QABiABBixAxiDARiKBcICGhAuGIAEGLEDGNEDGNIDGIMBGMcBGKgDGIsDwgIQEC4YgAQYsQMYQxjUAhiKBcICFBAuGIAEGLEDGNEDGIMBGMcBGIoFmAMG4gMFEgExIEDxBSlbxQZKRPt-kgcHMjUuMTYuNaAH0_AB&sclient=gws-wiz\"\n",
        "response = requests.get(url)\n",
        "soup = BeautifulSoup(response.text, 'html.parser')"
      ]
    },
    {
      "cell_type": "code",
      "execution_count": null,
      "metadata": {
        "id": "PdNRyHaxnU6r"
      },
      "outputs": [],
      "source": [
        "data = soup.title"
      ]
    },
    {
      "cell_type": "code",
      "execution_count": null,
      "metadata": {
        "colab": {
          "base_uri": "https://localhost:8080/"
        },
        "id": "jME-NKrQoI21",
        "outputId": "a2790c98-1ad0-4c65-dc43-ee177eb93899"
      },
      "outputs": [
        {
          "data": {
            "text/plain": [
              "<title>Google Search</title>"
            ]
          },
          "execution_count": 34,
          "metadata": {},
          "output_type": "execute_result"
        }
      ],
      "source": [
        "data"
      ]
    },
    {
      "cell_type": "markdown",
      "metadata": {
        "id": "yQwbbucVpQyP"
      },
      "source": [
        "### Need to do dynamic content scraping !!"
      ]
    },
    {
      "cell_type": "markdown",
      "metadata": {
        "id": "JKoiv2axsSFt"
      },
      "source": [
        "##3. File Renamer Script"
      ]
    },
    {
      "cell_type": "code",
      "execution_count": null,
      "metadata": {
        "id": "v5ZH9TL7neRd"
      },
      "outputs": [],
      "source": [
        "import os"
      ]
    },
    {
      "cell_type": "code",
      "execution_count": null,
      "metadata": {
        "colab": {
          "base_uri": "https://localhost:8080/"
        },
        "id": "E0D7uujxnqJX",
        "outputId": "2edbab82-8f68-4082-9d5b-996103f26921"
      },
      "outputs": [
        {
          "name": "stdout",
          "output_type": "stream",
          "text": [
            "['mnist_train_smallamnist_train_smallnmnist_train_smallsmnist_train_smallcmnist_train_smallomnist_train_smallmmnist_train_smallbmnist_train_smallemnist_train_small.mnist_train_smalljmnist_train_smallsmnist_train_smallomnist_train_smallnmnist_train_small', 'mnist_train_small.mnist_train_smallcmnist_train_smallsmnist_train_smallvmnist_train_small', 'mnist_train_smallRmnist_train_smallEmnist_train_smallAmnist_train_smallDmnist_train_smallMmnist_train_smallEmnist_train_small.mnist_train_smallmmnist_train_smalldmnist_train_small', 'mnist_test.csv', 'california_housing_test.csv', 'california_housing_train.csv']\n"
          ]
        }
      ],
      "source": [
        "folder_path = \"./sample_data/\"\n",
        "print(os.listdir(folder_path))\n",
        "for filename in os.listdir(folder_path):\n",
        "  if filename.startswith('.csv'):\n",
        "    new_filename = filename.replace('.csv', 'mnist_train.csv')\n",
        "    os.rename(os.path.join(folder_path, filename), os.path.join(folder_path, new_filename))"
      ]
    },
    {
      "cell_type": "markdown",
      "metadata": {
        "id": "VfM59EmoVh1j"
      },
      "source": [
        "##4. Pillow Library in Python\n",
        "> ! pip install pillow\n",
        "\n",
        "> Python Imaging Library - simplifies working with images"
      ]
    },
    {
      "cell_type": "code",
      "execution_count": null,
      "metadata": {
        "id": "zFemcBcIVL2a"
      },
      "outputs": [],
      "source": [
        "from PIL import Image\n",
        "import os\n",
        "\n",
        "input_folder = 'input_img'\n",
        "output_folder = 'output_img'\n",
        "\n",
        "desired_size = (100,100)\n",
        "\n",
        "for filename in os.listdir(input_folder):\n",
        "  with Image.open(os.path.join(input_folder, filename)) as img:\n",
        "    img.thumbnail(desired_size)\n",
        "    img.save(os.path.join(output_folder, filename))"
      ]
    },
    {
      "cell_type": "markdown",
      "metadata": {
        "id": "VaSUj9KglWrF"
      },
      "source": [
        "##5. ReportLab - Python Library\n",
        "> ! pip install reportlab\n",
        "\n",
        "- pdf and graphics generator\n",
        "- you can create pdf from text or HTML content."
      ]
    },
    {
      "cell_type": "code",
      "execution_count": null,
      "metadata": {
        "colab": {
          "base_uri": "https://localhost:8080/"
        },
        "id": "eJyWQsUBnyNz",
        "outputId": "e5d8ba1d-7daa-45f9-9dd4-24c32f7c642b"
      },
      "outputs": [
        {
          "name": "stdout",
          "output_type": "stream",
          "text": [
            "Collecting reportlab\n",
            "  Downloading reportlab-4.2.5-py3-none-any.whl.metadata (1.5 kB)\n",
            "Requirement already satisfied: pillow>=9.0.0 in /usr/local/lib/python3.11/dist-packages (from reportlab) (11.1.0)\n",
            "Requirement already satisfied: chardet in /usr/local/lib/python3.11/dist-packages (from reportlab) (5.2.0)\n",
            "Downloading reportlab-4.2.5-py3-none-any.whl (1.9 MB)\n",
            "\u001b[?25l   \u001b[90m━━━━━━━━━━━━━━━━━━━━━━━━━━━━━━━━━━━━━━━━\u001b[0m \u001b[32m0.0/1.9 MB\u001b[0m \u001b[31m?\u001b[0m eta \u001b[36m-:--:--\u001b[0m\r\u001b[2K   \u001b[91m━━━━━━━━━━━━━━━━━━\u001b[0m\u001b[91m╸\u001b[0m\u001b[90m━━━━━━━━━━━━━━━━━━━━━\u001b[0m \u001b[32m0.9/1.9 MB\u001b[0m \u001b[31m30.0 MB/s\u001b[0m eta \u001b[36m0:00:01\u001b[0m\r\u001b[2K   \u001b[90m━━━━━━━━━━━━━━━━━━━━━━━━━━━━━━━━━━━━━━━━\u001b[0m \u001b[32m1.9/1.9 MB\u001b[0m \u001b[31m31.2 MB/s\u001b[0m eta \u001b[36m0:00:00\u001b[0m\n",
            "\u001b[?25hInstalling collected packages: reportlab\n",
            "Successfully installed reportlab-4.2.5\n"
          ]
        }
      ],
      "source": [
        "! pip install reportlab"
      ]
    },
    {
      "cell_type": "code",
      "execution_count": null,
      "metadata": {
        "id": "bp7qlhVfXzPb"
      },
      "outputs": [],
      "source": [
        "from reportlab.pdfgen import canvas\n",
        "\n",
        "pdf_file = 'output.pdf'\n",
        "text = 'Hello this is sample PDF'\n",
        "\n",
        "c = canvas.Canvas(pdf_file)\n",
        "c.drawString(100, 750, text)\n",
        "c.save()"
      ]
    },
    {
      "cell_type": "markdown",
      "metadata": {
        "id": "lPWZ0pOYolPI"
      },
      "source": [
        "##6. SMTPLIB - Python email processing library"
      ]
    },
    {
      "cell_type": "code",
      "execution_count": null,
      "metadata": {
        "colab": {
          "base_uri": "https://localhost:8080/"
        },
        "id": "IL2TUzQDno-C",
        "outputId": "5540e9b2-c1cd-4628-805f-16711208c0f0"
      },
      "outputs": [
        {
          "name": "stdout",
          "output_type": "stream",
          "text": [
            "Email Sent.\n"
          ]
        }
      ],
      "source": [
        "# APP NAME - SMTP-GMAIL-APP | PASSWORD - rvrl utuv yntu vcby\n",
        "import smtplib\n",
        "from email.mime.text import MIMEText\n",
        "from email.mime.multipart import MIMEMultipart\n",
        "\n",
        "smtp_server = 'smtp.gmail.com'\n",
        "sender_email = 'akatsuki.rayuga107@gmail.com'\n",
        "receiver_email = 'akatsuki.rayuga107@gmail.com'\n",
        "password = 'rvrl utuv yntu vcby'\n",
        "\n",
        "message = MIMEMultipart()\n",
        "message['From'] = sender_email\n",
        "message['To'] = receiver_email\n",
        "message['Subject'] = 'Sample Email Object'\n",
        "\n",
        "body = 'This is a sample email message.'\n",
        "message.attach(MIMEText(body, 'plain'))\n",
        "\n",
        "with smtplib.SMTP(smtp_server, 587) as server:\n",
        "  server.ehlo()\n",
        "  server.starttls()\n",
        "  server.ehlo()\n",
        "  server.login(sender_email, password)\n",
        "  server.sendmail(sender_email, receiver_email, message.as_string())\n",
        "\n",
        "print('Email Sent.')"
      ]
    },
    {
      "cell_type": "markdown",
      "metadata": {
        "id": "FYuznRPJj3ww"
      },
      "source": [
        "##7. Data Backup Script"
      ]
    },
    {
      "cell_type": "code",
      "execution_count": null,
      "metadata": {
        "colab": {
          "base_uri": "https://localhost:8080/",
          "height": 36
        },
        "id": "sM0HKS_fsoRq",
        "outputId": "2b4beb11-21c4-4284-988a-25bcceb2226f"
      },
      "outputs": [
        {
          "data": {
            "application/vnd.google.colaboratory.intrinsic+json": {
              "type": "string"
            },
            "text/plain": [
              "'/content/backup/'"
            ]
          },
          "execution_count": 10,
          "metadata": {},
          "output_type": "execute_result"
        }
      ],
      "source": [
        "# in side bar create folder source and put some sample files for execution of script.\n",
        "import shutil\n",
        "\n",
        "source_folder = '/content/source'\n",
        "backup_folder = '/content/backup/' # dont need to create new folder for this it will automatically generate\n",
        "\n",
        "shutil.copytree(source_folder, backup_folder)"
      ]
    },
    {
      "cell_type": "markdown",
      "metadata": {
        "id": "FdkSdLvLmaWv"
      },
      "source": [
        "##8. Password Generator"
      ]
    },
    {
      "cell_type": "code",
      "execution_count": null,
      "metadata": {
        "colab": {
          "base_uri": "https://localhost:8080/"
        },
        "id": "M4sDs3YSlcoW",
        "outputId": "bf9dbb72-1f97-4d34-da7f-373412a34325"
      },
      "outputs": [
        {
          "name": "stdout",
          "output_type": "stream",
          "text": [
            "Your 12 alpha numeric strong password:  M#@Lk/09V|_v\n"
          ]
        }
      ],
      "source": [
        "import random\n",
        "import string\n",
        "\n",
        "def generate_password(length=12):\n",
        "\n",
        "  if length <4:\n",
        "    raise ValueError(\"Password length must be atleast 3 to include all character requirements.\")\n",
        "\n",
        "  uppercase = random.choice(string.ascii_uppercase)\n",
        "  lowercase = random.choice(string.ascii_lowercase)\n",
        "  digit = random.choice(string.digits)\n",
        "  special = random.choice(string.punctuation)\n",
        "\n",
        "  remaining_length = length-4\n",
        "\n",
        "  chars = string.ascii_letters + string.digits + string.punctuation\n",
        "  remaining_chars = \"\".join(random.choices(chars, k=remaining_length))\n",
        "\n",
        "  password_list = list(uppercase + lowercase + special + digit + remaining_chars)\n",
        "  random.shuffle(password_list)\n",
        "\n",
        "  return ''.join(password_list)\n",
        "\n",
        "password = generate_password()\n",
        "print('Your 12 alpha numeric strong password: ', password)"
      ]
    },
    {
      "cell_type": "markdown",
      "metadata": {
        "id": "0Rf0nw6SPGo5"
      },
      "source": [
        "##9. Simple Web Server"
      ]
    },
    {
      "cell_type": "code",
      "execution_count": null,
      "metadata": {
        "colab": {
          "base_uri": "https://localhost:8080/",
          "height": 370
        },
        "id": "0JtXkw73nZSx",
        "outputId": "1cdb60f1-3524-4ea2-934f-8003d5189849"
      },
      "outputs": [
        {
          "name": "stdout",
          "output_type": "stream",
          "text": [
            "Serving at port 8000\n"
          ]
        },
        {
          "ename": "KeyboardInterrupt",
          "evalue": "",
          "output_type": "error",
          "traceback": [
            "\u001b[0;31m---------------------------------------------------------------------------\u001b[0m",
            "\u001b[0;31mKeyboardInterrupt\u001b[0m                         Traceback (most recent call last)",
            "\u001b[0;32m<ipython-input-4-c47abbae2e0d>\u001b[0m in \u001b[0;36m<cell line: 0>\u001b[0;34m()\u001b[0m\n\u001b[1;32m      5\u001b[0m \u001b[0;32mwith\u001b[0m \u001b[0msocketserver\u001b[0m\u001b[0;34m.\u001b[0m\u001b[0mTCPServer\u001b[0m\u001b[0;34m(\u001b[0m\u001b[0;34m(\u001b[0m\u001b[0;34m''\u001b[0m\u001b[0;34m,\u001b[0m \u001b[0mport\u001b[0m\u001b[0;34m)\u001b[0m\u001b[0;34m,\u001b[0m \u001b[0mhttp\u001b[0m\u001b[0;34m.\u001b[0m\u001b[0mserver\u001b[0m\u001b[0;34m.\u001b[0m\u001b[0mSimpleHTTPRequestHandler\u001b[0m\u001b[0;34m)\u001b[0m \u001b[0;32mas\u001b[0m \u001b[0mhttpd\u001b[0m\u001b[0;34m:\u001b[0m\u001b[0;34m\u001b[0m\u001b[0;34m\u001b[0m\u001b[0m\n\u001b[1;32m      6\u001b[0m   \u001b[0mprint\u001b[0m\u001b[0;34m(\u001b[0m\u001b[0;34mf'Serving at port {port}'\u001b[0m\u001b[0;34m)\u001b[0m\u001b[0;34m\u001b[0m\u001b[0;34m\u001b[0m\u001b[0m\n\u001b[0;32m----> 7\u001b[0;31m   \u001b[0mhttpd\u001b[0m\u001b[0;34m.\u001b[0m\u001b[0mserve_forever\u001b[0m\u001b[0;34m(\u001b[0m\u001b[0;34m)\u001b[0m\u001b[0;34m\u001b[0m\u001b[0;34m\u001b[0m\u001b[0m\n\u001b[0m",
            "\u001b[0;32m/usr/lib/python3.11/socketserver.py\u001b[0m in \u001b[0;36mserve_forever\u001b[0;34m(self, poll_interval)\u001b[0m\n\u001b[1;32m    231\u001b[0m \u001b[0;34m\u001b[0m\u001b[0m\n\u001b[1;32m    232\u001b[0m                 \u001b[0;32mwhile\u001b[0m \u001b[0;32mnot\u001b[0m \u001b[0mself\u001b[0m\u001b[0;34m.\u001b[0m\u001b[0m__shutdown_request\u001b[0m\u001b[0;34m:\u001b[0m\u001b[0;34m\u001b[0m\u001b[0;34m\u001b[0m\u001b[0m\n\u001b[0;32m--> 233\u001b[0;31m                     \u001b[0mready\u001b[0m \u001b[0;34m=\u001b[0m \u001b[0mselector\u001b[0m\u001b[0;34m.\u001b[0m\u001b[0mselect\u001b[0m\u001b[0;34m(\u001b[0m\u001b[0mpoll_interval\u001b[0m\u001b[0;34m)\u001b[0m\u001b[0;34m\u001b[0m\u001b[0;34m\u001b[0m\u001b[0m\n\u001b[0m\u001b[1;32m    234\u001b[0m                     \u001b[0;31m# bpo-35017: shutdown() called during select(), exit immediately.\u001b[0m\u001b[0;34m\u001b[0m\u001b[0;34m\u001b[0m\u001b[0m\n\u001b[1;32m    235\u001b[0m                     \u001b[0;32mif\u001b[0m \u001b[0mself\u001b[0m\u001b[0;34m.\u001b[0m\u001b[0m__shutdown_request\u001b[0m\u001b[0;34m:\u001b[0m\u001b[0;34m\u001b[0m\u001b[0;34m\u001b[0m\u001b[0m\n",
            "\u001b[0;32m/usr/lib/python3.11/selectors.py\u001b[0m in \u001b[0;36mselect\u001b[0;34m(self, timeout)\u001b[0m\n\u001b[1;32m    413\u001b[0m         \u001b[0mready\u001b[0m \u001b[0;34m=\u001b[0m \u001b[0;34m[\u001b[0m\u001b[0;34m]\u001b[0m\u001b[0;34m\u001b[0m\u001b[0;34m\u001b[0m\u001b[0m\n\u001b[1;32m    414\u001b[0m         \u001b[0;32mtry\u001b[0m\u001b[0;34m:\u001b[0m\u001b[0;34m\u001b[0m\u001b[0;34m\u001b[0m\u001b[0m\n\u001b[0;32m--> 415\u001b[0;31m             \u001b[0mfd_event_list\u001b[0m \u001b[0;34m=\u001b[0m \u001b[0mself\u001b[0m\u001b[0;34m.\u001b[0m\u001b[0m_selector\u001b[0m\u001b[0;34m.\u001b[0m\u001b[0mpoll\u001b[0m\u001b[0;34m(\u001b[0m\u001b[0mtimeout\u001b[0m\u001b[0;34m)\u001b[0m\u001b[0;34m\u001b[0m\u001b[0;34m\u001b[0m\u001b[0m\n\u001b[0m\u001b[1;32m    416\u001b[0m         \u001b[0;32mexcept\u001b[0m \u001b[0mInterruptedError\u001b[0m\u001b[0;34m:\u001b[0m\u001b[0;34m\u001b[0m\u001b[0;34m\u001b[0m\u001b[0m\n\u001b[1;32m    417\u001b[0m             \u001b[0;32mreturn\u001b[0m \u001b[0mready\u001b[0m\u001b[0;34m\u001b[0m\u001b[0;34m\u001b[0m\u001b[0m\n",
            "\u001b[0;31mKeyboardInterrupt\u001b[0m: "
          ]
        }
      ],
      "source": [
        "import http.server\n",
        "import socketserver\n",
        "\n",
        "port = 8000\n",
        "with socketserver.TCPServer(('', port), http.server.SimpleHTTPRequestHandler) as httpd:\n",
        "  print(f'Serving at port {port}')\n",
        "  httpd.serve_forever()"
      ]
    },
    {
      "cell_type": "code",
      "execution_count": null,
      "metadata": {
        "colab": {
          "background_save": true,
          "base_uri": "https://localhost:8080/"
        },
        "id": "8Y2sLwUHP4aF",
        "outputId": "4ac78aaa-82c7-4725-c491-b9cbe1de5980"
      },
      "outputs": [
        {
          "name": "stdout",
          "output_type": "stream",
          "text": [
            "Serving at port 8000\n"
          ]
        }
      ],
      "source": [
        "import http.server\n",
        "import socketserver\n",
        "\n",
        "class CustomHandler(http.server.SimpleHTTPRequestHandler):\n",
        "  def do_GET(self):\n",
        "    print(f'Received GET request from {self.client_address}')\n",
        "    super().do_GET()\n",
        "\n",
        "port = 8000\n",
        "with socketserver.TCPServer(('', port), CustomHandler) as httpd:\n",
        "  print(f'Serving at port {port}')\n",
        "  httpd.serve_forever()"
      ]
    },
    {
      "cell_type": "markdown",
      "source": [
        "##10. Database Backup & Restore using SQLite"
      ],
      "metadata": {
        "id": "ix0RGQP72jvF"
      }
    },
    {
      "cell_type": "code",
      "source": [
        "import sqlite3\n",
        "import shutil\n",
        "\n",
        "source_db_file = 'source.db'\n",
        "backup_db_file = 'backup.db'\n",
        "\n",
        "def backup_database():\n",
        "  try:\n",
        "    shutil.copy2(source_db_file, backup_db_file)\n",
        "    print('Backup Successful.')\n",
        "  except Exception as e:\n",
        "    print(f'Backup Failed: {e}')\n",
        "\n",
        "def restore_database():\n",
        "  try:\n",
        "    shutil.copy2(backup_db_file, source_db_file)\n",
        "    print(f'Restore Successful.')\n",
        "\n",
        "  except Exception as e:\n",
        "    print(f'Restore Failed: {e}')\n",
        "\n",
        "while True:\n",
        "  print('Options:')\n",
        "  print('1. Backup Database')\n",
        "  print('2. Restore Database')\n",
        "  print('3. Quit')\n",
        "  choice = input('Enter your choice (1/2/3): ')\n",
        "\n",
        "  if choice == '1':\n",
        "    backup_database()\n",
        "  elif choice == '2':\n",
        "    restore_database()\n",
        "  elif choice == '3':\n",
        "    break\n",
        "  else:\n",
        "    print('Invalid choice. Please enter 1, 2, or 3.')\n"
      ],
      "metadata": {
        "colab": {
          "base_uri": "https://localhost:8080/"
        },
        "id": "NVasL4721_o1",
        "outputId": "d8b64e81-b869-406e-a0f7-0656c95a17ce"
      },
      "execution_count": null,
      "outputs": [
        {
          "name": "stdout",
          "output_type": "stream",
          "text": [
            "Options:\n",
            "1. Backup Database\n",
            "2. Restore Database\n",
            "3. Quit\n",
            "Enter your choice (1/2/3): 1\n",
            "Backup Successful.\n",
            "Options:\n",
            "1. Backup Database\n",
            "2. Restore Database\n",
            "3. Quit\n",
            "Enter your choice (1/2/3): 2\n",
            "Restore Successful.\n",
            "Options:\n",
            "1. Backup Database\n",
            "2. Restore Database\n",
            "3. Quit\n",
            "Enter your choice (1/2/3): 1\n",
            "Backup Successful.\n",
            "Options:\n",
            "1. Backup Database\n",
            "2. Restore Database\n",
            "3. Quit\n",
            "Enter your choice (1/2/3): 3\n"
          ]
        }
      ]
    },
    {
      "cell_type": "code",
      "source": [],
      "metadata": {
        "id": "PTyIfUguIz-B"
      },
      "execution_count": null,
      "outputs": []
    },
    {
      "cell_type": "markdown",
      "source": [
        "# 🚀 Additional Exercise\n",
        "## Don't Give Up !! Keep it up 🔥"
      ],
      "metadata": {
        "id": "zSHa7sxkKhtI"
      }
    },
    {
      "cell_type": "markdown",
      "metadata": {
        "id": "IKJx82SfZkHO"
      },
      "source": [
        "# Multithreading in Python"
      ]
    },
    {
      "cell_type": "markdown",
      "metadata": {
        "id": "bM4X5aLoZrf8"
      },
      "source": [
        "- threading module\n",
        "- threads - smaller units of process\n",
        "- GIL - global interpreter lock due to this cant achieve true parallelism\n",
        "- helpful in I/O bound operations (file handling, network requests, database queries etc.)"
      ]
    },
    {
      "cell_type": "code",
      "execution_count": null,
      "metadata": {
        "colab": {
          "base_uri": "https://localhost:8080/"
        },
        "id": "c5Muqq4HYJPr",
        "outputId": "b24fabeb-251f-4c97-b173-7b4ae3cefc29"
      },
      "outputs": [
        {
          "name": "stdout",
          "output_type": "stream",
          "text": [
            "0\n",
            "1\n",
            "2\n",
            "3\n",
            "4\n",
            "5\n",
            "6\n",
            "7\n",
            "8\n",
            "9\n",
            "Thread has completed.\n"
          ]
        }
      ],
      "source": [
        "import threading\n",
        "\n",
        "def print_nums():\n",
        "  for i in range(10):\n",
        "    print(i)\n",
        "\n",
        "thread = threading.Thread(target=print_nums)\n",
        "thread.start()\n",
        "\n",
        "thread.join()\n",
        "print('Thread has completed.')"
      ]
    },
    {
      "cell_type": "code",
      "execution_count": null,
      "metadata": {
        "colab": {
          "base_uri": "https://localhost:8080/"
        },
        "id": "4MJb8HsvbUEY",
        "outputId": "cd701136-9bf3-495f-c6ac-663420372956"
      },
      "outputs": [
        {
          "name": "stdout",
          "output_type": "stream",
          "text": [
            "Addition:  4\n",
            "Hanu\n",
            "0\n",
            "Akatsuki\n",
            "1\n",
            "Rajnish\n",
            "Naruto\n",
            "2\n",
            "Zoro\n",
            "Goku\n",
            "3\n",
            "Just checking that if it is gonna print before joining all the threads.\n",
            "4\n",
            "5\n",
            "6\n",
            "7\n",
            "8\n",
            "9\n",
            "Custom thread has completed.\n",
            "This last two statement printing after the above all threads completed so you now understood that what join method is doing there right...\n"
          ]
        }
      ],
      "source": [
        "import threading\n",
        "import time\n",
        "\n",
        "class MyThread(threading.Thread):\n",
        "  def run(self):\n",
        "    for i in range(10):\n",
        "      time.sleep(i)\n",
        "      print(i)\n",
        "\n",
        "thread = MyThread()\n",
        "thread.start()\n",
        "\n",
        "def add():\n",
        "    print('Addition: ', 2+2)\n",
        "\n",
        "def print_name():\n",
        "  names = ['Hanu', 'Akatsuki', 'Rajnish', 'Naruto', 'Zoro', 'Goku']\n",
        "  for name in names:\n",
        "    print(name)\n",
        "    time.sleep(1)\n",
        "\n",
        "add()\n",
        "print_name()\n",
        "\n",
        "print('Just checking that if it is gonna print before joining all the threads.')\n",
        "thread.join()\n",
        "print('Custom thread has completed.')\n",
        "print('This last two statement printing after the above all threads completed so you now understood that what join method is doing there right...')"
      ]
    },
    {
      "cell_type": "markdown",
      "metadata": {
        "id": "cikkOBDlkkh6"
      },
      "source": [
        "Thread Synchronization\n",
        "- race conditions\n",
        "- synchronization primitives like locks\n",
        "- one thread can access shared resource at a time"
      ]
    },
    {
      "cell_type": "code",
      "execution_count": null,
      "metadata": {
        "colab": {
          "base_uri": "https://localhost:8080/"
        },
        "id": "jCbGrh77dkUa",
        "outputId": "9d35ee5d-074d-4df4-8ff4-be67c2974130"
      },
      "outputs": [
        {
          "name": "stdout",
          "output_type": "stream",
          "text": [
            "Final Shared Variable:  10\n"
          ]
        }
      ],
      "source": [
        "import threading\n",
        "\n",
        "lock = threading.Lock()\n",
        "\n",
        "shared_variable = 0\n",
        "\n",
        "def increament():\n",
        "  global shared_variable\n",
        "  with lock:\n",
        "    shared_variable +=1\n",
        "\n",
        "threads = [threading.Thread(target=increament) for _ in range(10)]\n",
        "for thread in threads:\n",
        "  thread.start()\n",
        "\n",
        "for thread in threads:\n",
        "  thread.join()\n",
        "\n",
        "print('Final Shared Variable: ', shared_variable)"
      ]
    },
    {
      "cell_type": "markdown",
      "metadata": {
        "id": "4rwHPFSolv9y"
      },
      "source": [
        "Let's talk about Django Architecture (MVT)\n",
        "- web service that builds web pages\n",
        "- template : handles front end\n",
        "- model : Back end -> data\n",
        "- view : interacts with the model and template and maps it to the url\n",
        "- clean, reusable, maintainable code writing\n",
        "\n",
        "Django Arch ->\n",
        "> MVT - Model-View-Template\n",
        "\n",
        "> Model - Data Layer > Django ORM\n",
        "\n",
        "> View - Business Logic, Bridge(Model & Template), all user interactions with model and getting the response\n",
        "\n",
        "> Template - Presentation Layer (How data will be display)\n",
        "\n",
        "> MVC - Model-View-Controller\n",
        "> - Model same in both arch\n",
        "> - Controller > View in Django\n",
        "> - View > Template in Django\n",
        "\n",
        "Components in Django ->\n",
        " - URLs (Routing)\n",
        " - ORM\n",
        " - Middleware\n",
        " - Settings\n",
        " - Static & Media Files\n",
        "\n",
        "Request - Response - Cycle ->\n",
        "1. user request - for certain page\n",
        "2. url routing - access urls.py file map to appropriate view\n",
        "3. View - perform certain logic, interaction with database\n",
        "4. Template Rendering\n",
        "5. Response\n",
        "\n",
        "Benefits of Django Arch ->\n",
        "- seperation > data, logic, presentation\n",
        "- reusable code\n",
        "- scalability\n",
        "- security > sql injection, xss and csrf\n",
        "\n",
        "Analogy To Real Life ->\n",
        "- Django -> Restaurant\n",
        "- Model -> Kitchen\n",
        "- View -> Waiter\n",
        "- Template -> Tables setup display the food"
      ]
    },
    {
      "cell_type": "markdown",
      "metadata": {
        "id": "4lOf1r4mnCuY"
      },
      "source": [
        "Numpy Array v/s Nested List\n",
        "> Numpy array\n",
        "> - Faster Performance\n",
        "> - Memory efficiency\n",
        "> - vectorized operations\n",
        "> - built-in mathematical functions\n",
        "> - Multidimensional support\n",
        "\n",
        "> Nested List\n",
        "> - for storing small and heterogenous data\n",
        "> - slower & less memory efficient"
      ]
    },
    {
      "cell_type": "markdown",
      "metadata": {
        "id": "lfA7HD70NNpn"
      },
      "source": [
        "### Pickling (Serialization)\n",
        "- Python object hierarchy --> byte stream\n",
        "###Unpickling (Deserialization)\n",
        "- byte stream --> Python object hierarchy"
      ]
    },
    {
      "cell_type": "markdown",
      "metadata": {
        "id": "U_dnziWdOXIK"
      },
      "source": [
        "How is memory managed in python?\n",
        "- Heap Space --> Sharing, caching, segmentation, allocation"
      ]
    },
    {
      "cell_type": "markdown",
      "metadata": {
        "id": "PJ3t8aGeO0Xd"
      },
      "source": [
        "Are arguments in python passed by value or by reference?\n",
        "\n",
        " Python passes arguments by Reference"
      ]
    },
    {
      "cell_type": "code",
      "execution_count": null,
      "metadata": {
        "colab": {
          "base_uri": "https://localhost:8080/"
        },
        "id": "IdXtGljblYHR",
        "outputId": "686e1c08-68ca-4f9b-df27-89d15d33e53e"
      },
      "outputs": [
        {
          "name": "stdout",
          "output_type": "stream",
          "text": [
            "[3, 2, 3, 4]\n"
          ]
        }
      ],
      "source": [
        "def fun(L):\n",
        "  L[0]=3\n",
        "L = [1,2,3,4]\n",
        "fun(L)\n",
        "print(L)"
      ]
    },
    {
      "cell_type": "code",
      "execution_count": null,
      "metadata": {
        "colab": {
          "base_uri": "https://localhost:8080/"
        },
        "id": "9m3sqWjrQKNG",
        "outputId": "6cfdc788-5559-445d-bf1b-74680e3cec46"
      },
      "outputs": [
        {
          "name": "stdout",
          "output_type": "stream",
          "text": [
            "[1, 2, 3, 4]\n"
          ]
        }
      ],
      "source": [
        "def fun(L):\n",
        "  L=[3,2,3,4]\n",
        "L = [1,2,3,4]\n",
        "fun(L)\n",
        "print(L)"
      ]
    },
    {
      "cell_type": "markdown",
      "metadata": {
        "id": "8Q-1inhoQ6Hk"
      },
      "source": [
        "How would you generate random numbers in python?\n",
        "- using random module (basic use)\n",
        "- numpy library (advance use case)"
      ]
    },
    {
      "cell_type": "code",
      "execution_count": null,
      "metadata": {
        "colab": {
          "base_uri": "https://localhost:8080/"
        },
        "id": "pGrGfMQTQZ68",
        "outputId": "abe7946b-2a8c-4ed3-dbdb-da01561dc0a3"
      },
      "outputs": [
        {
          "data": {
            "text/plain": [
              "2"
            ]
          },
          "execution_count": 4,
          "metadata": {},
          "output_type": "execute_result"
        }
      ],
      "source": [
        "import random\n",
        "rand_int = random.randint(1,10)\n",
        "rand_int"
      ]
    },
    {
      "cell_type": "code",
      "execution_count": null,
      "metadata": {
        "colab": {
          "base_uri": "https://localhost:8080/"
        },
        "id": "7wkk1C08Rifz",
        "outputId": "8d642221-cf56-442e-85cc-3f640d548be1"
      },
      "outputs": [
        {
          "data": {
            "text/plain": [
              "1.2078594650363916"
            ]
          },
          "execution_count": 5,
          "metadata": {},
          "output_type": "execute_result"
        }
      ],
      "source": [
        "rand_float = random.uniform(0,2)\n",
        "rand_float"
      ]
    },
    {
      "cell_type": "code",
      "execution_count": null,
      "metadata": {
        "colab": {
          "base_uri": "https://localhost:8080/"
        },
        "id": "8ZG-fz2nR-DD",
        "outputId": "639235e7-e76f-4c26-86cd-120ab1acf043"
      },
      "outputs": [
        {
          "data": {
            "text/plain": [
              "1"
            ]
          },
          "execution_count": 12,
          "metadata": {},
          "output_type": "execute_result"
        }
      ],
      "source": [
        "rand_num = random.randrange(1,100,5)\n",
        "rand_num"
      ]
    },
    {
      "cell_type": "code",
      "execution_count": null,
      "metadata": {
        "colab": {
          "base_uri": "https://localhost:8080/"
        },
        "id": "XWBYOQiYSOAn",
        "outputId": "4ff50a17-32aa-4973-a775-d4d65237d4b1"
      },
      "outputs": [
        {
          "data": {
            "text/plain": [
              "array([0.30553437, 0.23746006, 0.52291375])"
            ]
          },
          "execution_count": 14,
          "metadata": {},
          "output_type": "execute_result"
        }
      ],
      "source": [
        "import numpy as np\n",
        "rand_arr = np.random.rand(3)\n",
        "rand_arr"
      ]
    },
    {
      "cell_type": "markdown",
      "metadata": {
        "id": "vQYr2fjSTcWc"
      },
      "source": [
        "what does the // operator do?\n",
        "- returns the floor value after division"
      ]
    },
    {
      "cell_type": "code",
      "execution_count": null,
      "metadata": {
        "colab": {
          "base_uri": "https://localhost:8080/"
        },
        "id": "8cwGs9JBTUD0",
        "outputId": "c73affe5-68e1-4803-e2eb-67b4f5398ec2"
      },
      "outputs": [
        {
          "data": {
            "text/plain": [
              "2.5"
            ]
          },
          "execution_count": 17,
          "metadata": {},
          "output_type": "execute_result"
        }
      ],
      "source": [
        "5/2"
      ]
    },
    {
      "cell_type": "code",
      "execution_count": null,
      "metadata": {
        "colab": {
          "base_uri": "https://localhost:8080/"
        },
        "id": "Wo99SLyVT89q",
        "outputId": "15a8360a-2f59-4c14-8d82-d1d3e8dab6c5"
      },
      "outputs": [
        {
          "data": {
            "text/plain": [
              "2"
            ]
          },
          "execution_count": 18,
          "metadata": {},
          "output_type": "execute_result"
        }
      ],
      "source": [
        "5//2"
      ]
    },
    {
      "cell_type": "markdown",
      "metadata": {
        "id": "aI6tzJlhUNgR"
      },
      "source": [
        "what does 'is' operator do?\n",
        "- compares object identies not their values"
      ]
    },
    {
      "cell_type": "code",
      "execution_count": null,
      "metadata": {
        "colab": {
          "base_uri": "https://localhost:8080/"
        },
        "id": "Nt4jVonCUGHd",
        "outputId": "2274973f-d5c7-4c2a-c196-abd18c1edd86"
      },
      "outputs": [
        {
          "name": "stdout",
          "output_type": "stream",
          "text": [
            "True\n"
          ]
        }
      ],
      "source": [
        "a=[1,2,3]\n",
        "b=a\n",
        "print(a is b)"
      ]
    },
    {
      "cell_type": "code",
      "execution_count": null,
      "metadata": {
        "colab": {
          "base_uri": "https://localhost:8080/"
        },
        "id": "9N7T4X_OUxy8",
        "outputId": "63a20cc3-d21b-466b-cbbc-ff19298ebd74"
      },
      "outputs": [
        {
          "name": "stdout",
          "output_type": "stream",
          "text": [
            "False\n"
          ]
        }
      ],
      "source": [
        "a=[1,2,3]\n",
        "b=[3,4,5]\n",
        "print(a is b)"
      ]
    },
    {
      "cell_type": "code",
      "execution_count": null,
      "metadata": {
        "colab": {
          "base_uri": "https://localhost:8080/"
        },
        "id": "wDO0aRUFU6gJ",
        "outputId": "41f1ae18-db2b-47c1-f255-afbfbd72a29d"
      },
      "outputs": [
        {
          "name": "stdout",
          "output_type": "stream",
          "text": [
            "False\n"
          ]
        }
      ],
      "source": [
        "a=[1,2,3]\n",
        "b=[1,2,3]\n",
        "print(a is b)"
      ]
    },
    {
      "cell_type": "code",
      "execution_count": null,
      "metadata": {
        "colab": {
          "base_uri": "https://localhost:8080/"
        },
        "id": "xZLq6EAaU-F5",
        "outputId": "57c89008-ab6c-4d8d-83c0-5b43d3a25532"
      },
      "outputs": [
        {
          "name": "stdout",
          "output_type": "stream",
          "text": [
            "True\n"
          ]
        }
      ],
      "source": [
        "a=[1,2,3]\n",
        "a=[1,2,3]\n",
        "print(a is a)"
      ]
    },
    {
      "cell_type": "code",
      "execution_count": null,
      "metadata": {
        "colab": {
          "base_uri": "https://localhost:8080/"
        },
        "id": "flZ2NcKXVFSR",
        "outputId": "c4e06009-66fc-43dd-ee07-0e13ea8a3476"
      },
      "outputs": [
        {
          "name": "stdout",
          "output_type": "stream",
          "text": [
            "True\n"
          ]
        }
      ],
      "source": [
        "a=[1,2,3]\n",
        "print(a is a)"
      ]
    },
    {
      "cell_type": "markdown",
      "metadata": {
        "id": "EwHZ2xEBVaX9"
      },
      "source": [
        "# Shallow Copy v/s Deep Copy"
      ]
    },
    {
      "cell_type": "code",
      "source": [
        "# typical case\n",
        "lst = [1,2,3]\n",
        "lst1 = copy.copy(lst)\n",
        "lst2 = copy.deepcopy(lst)\n",
        "print(lst1, lst2, lst)"
      ],
      "metadata": {
        "colab": {
          "base_uri": "https://localhost:8080/"
        },
        "id": "FfDV5W07D8qy",
        "outputId": "283d0b7b-6d96-4e79-957e-d215588658c4"
      },
      "execution_count": null,
      "outputs": [
        {
          "output_type": "stream",
          "name": "stdout",
          "text": [
            "[1, 2, 3] [1, 2, 3] [1, 2, 3]\n"
          ]
        }
      ]
    },
    {
      "cell_type": "code",
      "source": [
        "# lets play with above\n",
        "lst1[1] = 10\n",
        "print(lst, lst1) # this should be shallow copy"
      ],
      "metadata": {
        "colab": {
          "base_uri": "https://localhost:8080/"
        },
        "id": "dvMzn9oYEPTc",
        "outputId": "d532324c-1931-4c8f-ad26-459572122175"
      },
      "execution_count": null,
      "outputs": [
        {
          "output_type": "stream",
          "name": "stdout",
          "text": [
            "[1, 2, 3] [1, 10, 3]\n"
          ]
        }
      ]
    },
    {
      "cell_type": "code",
      "source": [
        "# lets play with above\n",
        "lst2[1] = 10\n",
        "print(lst, lst2) # this should be deep copy"
      ],
      "metadata": {
        "colab": {
          "base_uri": "https://localhost:8080/"
        },
        "id": "VoUEmnN6Eeu-",
        "outputId": "dd2b15e4-d452-41c2-8fdb-8f3c72fa2dce"
      },
      "execution_count": null,
      "outputs": [
        {
          "output_type": "stream",
          "name": "stdout",
          "text": [
            "[1, 2, 3] [1, 10, 3]\n"
          ]
        }
      ]
    },
    {
      "cell_type": "markdown",
      "source": [
        "In above case you can see nothing happenings when changing in the copied objects but according to the concept something should happened\n",
        "\n",
        "check the below code for fix this problem"
      ],
      "metadata": {
        "id": "JTa3ow9yEn1h"
      }
    },
    {
      "cell_type": "code",
      "source": [
        "lst = [1,[2,3]]\n",
        "lst1 = lst.copy() # shallow copy for built in object pure shallow copy\n",
        "lst2 = lst # shallow (direct assignment)\n",
        "print(lst1, lst2, lst)"
      ],
      "metadata": {
        "colab": {
          "base_uri": "https://localhost:8080/"
        },
        "id": "FU6BH1gLHweU",
        "outputId": "7fba9658-1436-4c29-f14a-6d9fb0e6bbea"
      },
      "execution_count": null,
      "outputs": [
        {
          "output_type": "stream",
          "name": "stdout",
          "text": [
            "[1, [2, 3]] [1, [2, 3]] [1, [2, 3]]\n"
          ]
        }
      ]
    },
    {
      "cell_type": "code",
      "source": [
        "lst1[1][0] = 10\n",
        "print(lst, lst1)"
      ],
      "metadata": {
        "colab": {
          "base_uri": "https://localhost:8080/"
        },
        "id": "1ITn_2RqH4GX",
        "outputId": "876ac2ea-0e03-4600-f413-782b417d6b44"
      },
      "execution_count": null,
      "outputs": [
        {
          "output_type": "stream",
          "name": "stdout",
          "text": [
            "[1, [10, 3]] [1, [10, 3]]\n"
          ]
        }
      ]
    },
    {
      "cell_type": "code",
      "source": [
        "lst2[0] = 10\n",
        "print(lst, lst2)"
      ],
      "metadata": {
        "colab": {
          "base_uri": "https://localhost:8080/"
        },
        "id": "r6fye59NIf3E",
        "outputId": "f799b2f5-e744-4851-de47-83fbc3771ab3"
      },
      "execution_count": null,
      "outputs": [
        {
          "output_type": "stream",
          "name": "stdout",
          "text": [
            "[10, [2, 3]] [10, [2, 3]]\n"
          ]
        }
      ]
    },
    {
      "cell_type": "markdown",
      "source": [
        "#🚯 Dont try this method to explain...\n",
        "so my guessing were true we can perform shallow with built in methods in python. but we cant perform any deep copy.."
      ],
      "metadata": {
        "id": "4JZ5OJKdI6h-"
      }
    },
    {
      "cell_type": "code",
      "execution_count": null,
      "metadata": {
        "id": "AKIi9mIkVZIR"
      },
      "outputs": [],
      "source": [
        "# shallow copy\n",
        "import copy\n",
        "original = [[1,2], [3,4]]\n",
        "sh_copy = copy.copy(original)"
      ]
    },
    {
      "cell_type": "code",
      "execution_count": null,
      "metadata": {
        "colab": {
          "base_uri": "https://localhost:8080/"
        },
        "id": "_vAI_sGYtueE",
        "outputId": "884b049f-4174-43ba-f058-0281a597074c"
      },
      "outputs": [
        {
          "output_type": "execute_result",
          "data": {
            "text/plain": [
              "[[1, 2], [3, 4]]"
            ]
          },
          "metadata": {},
          "execution_count": 12
        }
      ],
      "source": [
        "sh_copy"
      ]
    },
    {
      "cell_type": "code",
      "execution_count": null,
      "metadata": {
        "colab": {
          "base_uri": "https://localhost:8080/"
        },
        "id": "DMqBQaWmWAP-",
        "outputId": "4d287292-4107-4878-8061-935c524a2c5f"
      },
      "outputs": [
        {
          "output_type": "execute_result",
          "data": {
            "text/plain": [
              "[1, 2]"
            ]
          },
          "metadata": {},
          "execution_count": 13
        }
      ],
      "source": [
        "sh_copy[0]"
      ]
    },
    {
      "cell_type": "code",
      "execution_count": null,
      "metadata": {
        "colab": {
          "base_uri": "https://localhost:8080/"
        },
        "id": "UGoyAtg2WE1J",
        "outputId": "fc00d6d5-f68f-4fdb-f5b0-3a23e1a83608"
      },
      "outputs": [
        {
          "output_type": "execute_result",
          "data": {
            "text/plain": [
              "1"
            ]
          },
          "metadata": {},
          "execution_count": 14
        }
      ],
      "source": [
        "sh_copy[0][0]"
      ]
    },
    {
      "cell_type": "code",
      "execution_count": null,
      "metadata": {
        "id": "1IduuGyrWH54"
      },
      "outputs": [],
      "source": [
        "sh_copy[0][0] = 9"
      ]
    },
    {
      "cell_type": "code",
      "execution_count": null,
      "metadata": {
        "colab": {
          "base_uri": "https://localhost:8080/"
        },
        "id": "9Vj29AH_WQDf",
        "outputId": "d2d4ddac-71c9-4fbc-fc7d-2b86553d0014"
      },
      "outputs": [
        {
          "output_type": "execute_result",
          "data": {
            "text/plain": [
              "[[9, 2], [3, 4]]"
            ]
          },
          "metadata": {},
          "execution_count": 16
        }
      ],
      "source": [
        "sh_copy # updated list right."
      ]
    },
    {
      "cell_type": "code",
      "source": [
        "# lets try different\n",
        "a = [1,2,[3,4]]\n",
        "sh_a = copy.copy(a)\n",
        "sh_a"
      ],
      "metadata": {
        "colab": {
          "base_uri": "https://localhost:8080/"
        },
        "id": "-Zc8QePKNWY-",
        "outputId": "35e7c051-01ca-4b69-c48e-22184d8821a7"
      },
      "execution_count": null,
      "outputs": [
        {
          "output_type": "execute_result",
          "data": {
            "text/plain": [
              "[1, 2, [3, 4]]"
            ]
          },
          "metadata": {},
          "execution_count": 18
        }
      ]
    },
    {
      "cell_type": "code",
      "source": [
        "sh_a[2][0] = 29\n",
        "print(sh_a, a)"
      ],
      "metadata": {
        "colab": {
          "base_uri": "https://localhost:8080/"
        },
        "id": "DfANIT_lNrGA",
        "outputId": "1b0ca752-dbba-44f3-c35b-26929d5c8324"
      },
      "execution_count": null,
      "outputs": [
        {
          "output_type": "stream",
          "name": "stdout",
          "text": [
            "[1, 2, [29, 4]] [1, 2, [29, 4]]\n"
          ]
        }
      ]
    },
    {
      "cell_type": "code",
      "source": [
        "sh_a[0] = 100\n",
        "print(sh_a, a)"
      ],
      "metadata": {
        "colab": {
          "base_uri": "https://localhost:8080/"
        },
        "id": "mJUh45BNOWEX",
        "outputId": "020251a5-da4b-489d-9245-a3ec4e675a43"
      },
      "execution_count": null,
      "outputs": [
        {
          "output_type": "stream",
          "name": "stdout",
          "text": [
            "[100, 2, [29, 4]] [1, 2, [29, 4]]\n"
          ]
        }
      ]
    },
    {
      "cell_type": "markdown",
      "source": [
        "Now with the above experiment i think every thing is clear that in shallow copy outer object is copied but nested objects within it not copied but copied its references.\n",
        "\n",
        "in other hand in deep everything gets copy\n",
        "\n",
        "so we observed that shallow copy concept comes into existence with nested objects."
      ],
      "metadata": {
        "id": "Op9xAPV2OovB"
      }
    },
    {
      "cell_type": "code",
      "execution_count": null,
      "metadata": {
        "colab": {
          "base_uri": "https://localhost:8080/"
        },
        "id": "gM3eGEQLWR67",
        "outputId": "b41ae8f9-3c64-4135-8ff0-84003cd22e95"
      },
      "outputs": [
        {
          "data": {
            "text/plain": [
              "[[9, 2], [3, 4]]"
            ]
          },
          "execution_count": 7,
          "metadata": {},
          "output_type": "execute_result"
        }
      ],
      "source": [
        "# let's see original list\n",
        "original"
      ]
    },
    {
      "cell_type": "markdown",
      "metadata": {
        "id": "UWxgh4A6WgK1"
      },
      "source": [
        "what happens ?? og list changed bcz in shallow copy it copies the references of the original object."
      ]
    },
    {
      "cell_type": "code",
      "execution_count": null,
      "metadata": {
        "colab": {
          "base_uri": "https://localhost:8080/"
        },
        "id": "g7ot2_EpWdjv",
        "outputId": "07931d08-a374-4c96-8c33-fcd4190fc28a"
      },
      "outputs": [
        {
          "data": {
            "text/plain": [
              "[[5, 6], [7, 8]]"
            ]
          },
          "execution_count": 8,
          "metadata": {},
          "output_type": "execute_result"
        }
      ],
      "source": [
        "# deep copy\n",
        "import copy\n",
        "original = [[5,6],[7,8]]\n",
        "deep_copy = copy.deepcopy(original)\n",
        "deep_copy"
      ]
    },
    {
      "cell_type": "code",
      "execution_count": null,
      "metadata": {
        "colab": {
          "base_uri": "https://localhost:8080/"
        },
        "id": "AGFmzy2cXUet",
        "outputId": "095957a1-5434-467a-8390-2a64fb09885d"
      },
      "outputs": [
        {
          "data": {
            "text/plain": [
              "5"
            ]
          },
          "execution_count": 9,
          "metadata": {},
          "output_type": "execute_result"
        }
      ],
      "source": [
        "# everything good, explore more\n",
        "deep_copy[0][0]"
      ]
    },
    {
      "cell_type": "code",
      "execution_count": null,
      "metadata": {
        "id": "vvrYrduXXvou"
      },
      "outputs": [],
      "source": [
        "# lets try to update the list and see what will happen to og list...\n",
        "deep_copy[0][1] = 10"
      ]
    },
    {
      "cell_type": "code",
      "execution_count": null,
      "metadata": {
        "colab": {
          "base_uri": "https://localhost:8080/"
        },
        "id": "oObNlqcvX_8y",
        "outputId": "db39e5fe-0e98-49b6-c15c-12adaf8aed0f"
      },
      "outputs": [
        {
          "data": {
            "text/plain": [
              "[[5, 10], [7, 8]]"
            ]
          },
          "execution_count": 11,
          "metadata": {},
          "output_type": "execute_result"
        }
      ],
      "source": [
        "# lets see..\n",
        "deep_copy"
      ]
    },
    {
      "cell_type": "code",
      "execution_count": null,
      "metadata": {
        "colab": {
          "base_uri": "https://localhost:8080/"
        },
        "id": "RnTDdZqlYFBQ",
        "outputId": "4200a0f8-d2e7-4f5e-ea7f-f395e963fc49"
      },
      "outputs": [
        {
          "data": {
            "text/plain": [
              "[[5, 6], [7, 8]]"
            ]
          },
          "execution_count": 12,
          "metadata": {},
          "output_type": "execute_result"
        }
      ],
      "source": [
        "# og list\n",
        "original"
      ]
    },
    {
      "cell_type": "markdown",
      "metadata": {
        "id": "veAa_TU2YMEI"
      },
      "source": [
        "og list remain unchanged bcz deep copy doesnt affect the original object, basically copies everything from og object recursively to new object."
      ]
    },
    {
      "cell_type": "markdown",
      "metadata": {
        "id": "-Ep_dDQ6Ysel"
      },
      "source": [
        "### Note: Both method copy the object and create new object but they differ by references of og object. one copies it and other just created the whole thing."
      ]
    },
    {
      "cell_type": "markdown",
      "source": [
        "### In Below Understand the 'pass' statement in python"
      ],
      "metadata": {
        "id": "IVA5HhQQ-dfQ"
      }
    },
    {
      "cell_type": "code",
      "source": [
        "var = 'a b cd e'\n",
        "for i in var:\n",
        "  print(i, end='')"
      ],
      "metadata": {
        "colab": {
          "base_uri": "https://localhost:8080/"
        },
        "id": "reJTg_h69hWD",
        "outputId": "b6013eff-ee85-4d6b-86ad-fb972bd1d6c9"
      },
      "execution_count": null,
      "outputs": [
        {
          "output_type": "stream",
          "name": "stdout",
          "text": [
            "a b cd e"
          ]
        }
      ]
    },
    {
      "cell_type": "code",
      "source": [
        "var = 'a b cd e'\n",
        "for i in var:\n",
        "  if i ==\" \":\n",
        "    pass\n",
        "  else:\n",
        "   print(i, end='')"
      ],
      "metadata": {
        "colab": {
          "base_uri": "https://localhost:8080/"
        },
        "id": "ODYziIhw9pZf",
        "outputId": "78f7e4f9-c918-4801-e502-d7fc31ccc66a"
      },
      "execution_count": null,
      "outputs": [
        {
          "output_type": "stream",
          "name": "stdout",
          "text": [
            "abcde"
          ]
        }
      ]
    },
    {
      "cell_type": "markdown",
      "source": [
        "### How will you check if all the Characters in a String are alphanumeric?\n",
        "\n",
        "- isalnum()"
      ],
      "metadata": {
        "id": "wuU5VILr-tpu"
      }
    },
    {
      "cell_type": "code",
      "source": [
        "string1 = 'akatsuki123#$'\n",
        "string2 = '23'\n",
        "print('string1: ',string1.isalnum())\n",
        "print('string2: ', string2.isalnum())"
      ],
      "metadata": {
        "colab": {
          "base_uri": "https://localhost:8080/"
        },
        "id": "Q9lRQ8b_-a3Z",
        "outputId": "184b46ee-055b-4d50-f944-1329f9a1d188"
      },
      "execution_count": null,
      "outputs": [
        {
          "output_type": "stream",
          "name": "stdout",
          "text": [
            "string1:  False\n",
            "string2:  True\n"
          ]
        }
      ]
    },
    {
      "cell_type": "markdown",
      "source": [
        "### How will you Merge elements in a Sequence?\n",
        "\n",
        "- join()"
      ],
      "metadata": {
        "id": "1qPCvH8ZAy_Q"
      }
    },
    {
      "cell_type": "code",
      "source": [
        "words = ['1', 'helo', 'yo']\n",
        "merged = \" \".join(words)\n",
        "print(merged)"
      ],
      "metadata": {
        "colab": {
          "base_uri": "https://localhost:8080/"
        },
        "id": "ruFcOD6J_Gdp",
        "outputId": "abaa48f5-963e-4d55-900b-e72377443686"
      },
      "execution_count": null,
      "outputs": [
        {
          "output_type": "stream",
          "name": "stdout",
          "text": [
            "1 helo yo\n"
          ]
        }
      ]
    },
    {
      "cell_type": "markdown",
      "source": [
        "### How would you remove all leading Whitespace in a string?\n",
        "\n",
        "- strip()\n",
        "- lstrip()\n",
        "- rstrip()"
      ],
      "metadata": {
        "id": "wH9-_MBsBu2v"
      }
    },
    {
      "cell_type": "code",
      "source": [
        "string = '  a b c  '\n",
        "string.strip()"
      ],
      "metadata": {
        "colab": {
          "base_uri": "https://localhost:8080/",
          "height": 36
        },
        "id": "5vfaRrkpBHHL",
        "outputId": "c9e27322-d5fc-4aad-f162-5181f997128c"
      },
      "execution_count": null,
      "outputs": [
        {
          "output_type": "execute_result",
          "data": {
            "text/plain": [
              "'a b c'"
            ],
            "application/vnd.google.colaboratory.intrinsic+json": {
              "type": "string"
            }
          },
          "metadata": {},
          "execution_count": 27
        }
      ]
    },
    {
      "cell_type": "code",
      "source": [
        "string = '  a b c  '\n",
        "string.lstrip()"
      ],
      "metadata": {
        "colab": {
          "base_uri": "https://localhost:8080/",
          "height": 36
        },
        "id": "TR--5uqxCBsT",
        "outputId": "2679be66-8ee4-4a30-db18-daa95a282ae9"
      },
      "execution_count": null,
      "outputs": [
        {
          "output_type": "execute_result",
          "data": {
            "text/plain": [
              "'a b c  '"
            ],
            "application/vnd.google.colaboratory.intrinsic+json": {
              "type": "string"
            }
          },
          "metadata": {},
          "execution_count": 28
        }
      ]
    },
    {
      "cell_type": "code",
      "source": [
        "string = '  a b c  '\n",
        "string.rstrip()"
      ],
      "metadata": {
        "colab": {
          "base_uri": "https://localhost:8080/",
          "height": 36
        },
        "id": "7ONitZZsCI8F",
        "outputId": "4dbc5ef7-9d3c-40ff-81bb-32f3ddff75e0"
      },
      "execution_count": null,
      "outputs": [
        {
          "output_type": "execute_result",
          "data": {
            "text/plain": [
              "'  a b c'"
            ],
            "application/vnd.google.colaboratory.intrinsic+json": {
              "type": "string"
            }
          },
          "metadata": {},
          "execution_count": 29
        }
      ]
    },
    {
      "cell_type": "markdown",
      "source": [
        "### How would you replace all occurrences of a Substring with a new string?\n",
        "\n",
        "- replace()"
      ],
      "metadata": {
        "id": "wwPB8QuCClvI"
      }
    },
    {
      "cell_type": "code",
      "source": [
        "text = \"Hello World, World is great!\"\n",
        "new_text = text.replace('World', 'Python')\n",
        "print(new_text)"
      ],
      "metadata": {
        "colab": {
          "base_uri": "https://localhost:8080/"
        },
        "id": "oiZY9NHUCN9i",
        "outputId": "6f57e876-7ed6-4d7b-c698-0372cca701f1"
      },
      "execution_count": null,
      "outputs": [
        {
          "output_type": "stream",
          "name": "stdout",
          "text": [
            "Hello Python, Python is great!\n"
          ]
        }
      ]
    },
    {
      "cell_type": "markdown",
      "source": [
        "1. What is Python?"
      ],
      "metadata": {
        "id": "kln9nHi1jwr5"
      }
    },
    {
      "cell_type": "code",
      "source": [
        "definition = progeamming lang\n",
        "year = 80's\n",
        "creator = guido rossum\n",
        "naming convention = circus show-> python\n",
        "interpreted = line by line read by compiler\n",
        "my_opinion = dont think easy lang, but it is advanced !!\n",
        "other = quite popular due used in major industries.\n",
        "version = latest 3.10+"
      ],
      "metadata": {
        "id": "EeFwGR2So52q"
      },
      "execution_count": null,
      "outputs": []
    },
    {
      "cell_type": "markdown",
      "source": [
        "2. How to install python?"
      ],
      "metadata": {
        "id": "8p2coZHClhZI"
      }
    },
    {
      "cell_type": "code",
      "source": [
        "go to python website just download its compiler there thats it"
      ],
      "metadata": {
        "id": "J5ArsNkllgZb"
      },
      "execution_count": null,
      "outputs": []
    },
    {
      "cell_type": "markdown",
      "source": [
        "What are key features of python?"
      ],
      "metadata": {
        "id": "iS1rB2nIlxrj"
      }
    },
    {
      "cell_type": "code",
      "source": [
        "good for numerical computation\n",
        "easy to use and understand after some good practice\n",
        "packages, modules or libraries for everything"
      ],
      "metadata": {
        "id": "_pKOGkOpl33A"
      },
      "execution_count": null,
      "outputs": []
    },
    {
      "cell_type": "markdown",
      "source": [
        "4. what are the application of python?\n"
      ],
      "metadata": {
        "id": "EwxWQrgcmXIE"
      }
    },
    {
      "cell_type": "code",
      "source": [
        "creating webapps, mobileapps, numerical computation, better with data's"
      ],
      "metadata": {
        "id": "lVPwjoJumdqz"
      },
      "execution_count": null,
      "outputs": []
    },
    {
      "cell_type": "markdown",
      "source": [
        "5. what is dynamically typed language?\n"
      ],
      "metadata": {
        "id": "dBITkqSImtqT"
      }
    },
    {
      "cell_type": "code",
      "source": [
        "python is dynamcially typed lang, why > bcz assigned datatypes to variables during runtime"
      ],
      "metadata": {
        "id": "GzZB8t7Qmy3G"
      },
      "execution_count": null,
      "outputs": []
    },
    {
      "cell_type": "markdown",
      "source": [
        "6. what is difference between list and tuples in python?"
      ],
      "metadata": {
        "id": "5Itf5JNXnXrc"
      }
    },
    {
      "cell_type": "code",
      "source": [
        "list = changeable(mutable), are like []\n",
        "tuple = unchangeable(immutable), are like ()"
      ],
      "metadata": {
        "id": "a30W3CQonV4S"
      },
      "execution_count": null,
      "outputs": []
    },
    {
      "cell_type": "markdown",
      "source": [
        "7. what are pickling & unpickling?"
      ],
      "metadata": {
        "id": "PrZZ6Mw1n2Uc"
      }
    },
    {
      "cell_type": "code",
      "source": [
        "# Pickling (serializing)\n",
        "convert python object into bytestream and stored as a file\n",
        "\n",
        "persistence, data transmission, state maintenance\n",
        "storing program state, inter-process commnication, caching\n",
        "# Unpickling (deserializing)\n",
        "reverse process convert bytestream into python object"
      ],
      "metadata": {
        "id": "4JDXhL4Xn-sb"
      },
      "execution_count": null,
      "outputs": []
    },
    {
      "cell_type": "code",
      "source": [
        "import pickle\n",
        "\n",
        "data = {'a': 1, 'b': 2, 'c': 3}\n",
        "\n",
        "with open('data.pkl', 'wb') as file:\n",
        "  pickle.dump(data, file)\n",
        "\n",
        "with open('data.pkl', 'rb') as file:\n",
        "  loaded_data = pickle.load(file)\n",
        "\n",
        "print(loaded_data)"
      ],
      "metadata": {
        "colab": {
          "base_uri": "https://localhost:8080/"
        },
        "id": "h2EJ4U40r5wZ",
        "outputId": "1f988d3a-1c9a-4f72-c477-bbcc8e898f7d"
      },
      "execution_count": null,
      "outputs": [
        {
          "output_type": "stream",
          "name": "stdout",
          "text": [
            "{'a': 1, 'b': 2, 'c': 3}\n"
          ]
        }
      ]
    },
    {
      "cell_type": "markdown",
      "source": [
        "8. what is the difference between del and reomove() on lists?"
      ],
      "metadata": {
        "id": "oWRVRo00oAhp"
      }
    },
    {
      "cell_type": "code",
      "source": [
        "lst = [1,2,30]\n",
        "lst.remove(1) # not index take direct value\n",
        "lst"
      ],
      "metadata": {
        "colab": {
          "base_uri": "https://localhost:8080/"
        },
        "id": "V7KG_FX-qE4w",
        "outputId": "d43e0629-5d52-44c4-d28c-e6e15315f01c"
      },
      "execution_count": null,
      "outputs": [
        {
          "output_type": "execute_result",
          "data": {
            "text/plain": [
              "[2, 30]"
            ]
          },
          "metadata": {},
          "execution_count": 3
        }
      ]
    },
    {
      "cell_type": "code",
      "source": [
        "del lst # del is keyword so it is deleted whole lst with it reference"
      ],
      "metadata": {
        "id": "32B1yLvBqSjs"
      },
      "execution_count": null,
      "outputs": []
    },
    {
      "cell_type": "code",
      "source": [
        "lst"
      ],
      "metadata": {
        "colab": {
          "base_uri": "https://localhost:8080/",
          "height": 146
        },
        "id": "beRWK1pKrZoq",
        "outputId": "5f72e340-dce2-4d81-c02e-93ad2ac91b7c"
      },
      "execution_count": null,
      "outputs": [
        {
          "output_type": "error",
          "ename": "NameError",
          "evalue": "name 'lst' is not defined",
          "traceback": [
            "\u001b[0;31m---------------------------------------------------------------------------\u001b[0m",
            "\u001b[0;31mNameError\u001b[0m                                 Traceback (most recent call last)",
            "\u001b[0;32m<ipython-input-5-b5cada25ed2a>\u001b[0m in \u001b[0;36m<cell line: 0>\u001b[0;34m()\u001b[0m\n\u001b[0;32m----> 1\u001b[0;31m \u001b[0mlst\u001b[0m\u001b[0;34m\u001b[0m\u001b[0;34m\u001b[0m\u001b[0m\n\u001b[0m",
            "\u001b[0;31mNameError\u001b[0m: name 'lst' is not defined"
          ]
        }
      ]
    },
    {
      "cell_type": "markdown",
      "source": [
        "9. What do you mean by python literals?"
      ],
      "metadata": {
        "id": "dlOm1PUosmx2"
      }
    },
    {
      "cell_type": "code",
      "source": [
        "type(1+2j)\n",
        "\"\"\"\n",
        "python literals are fixed value or constants that are assigned by variables\n",
        "or directly put in the code. represent data types.\n",
        "strings, intergers, collections, special, booleans\n",
        "\"\"\"\n",
        "# ordered and unordered collections\n",
        "# before 3.7 dict are unordered but after 3.7+ dict are ordered\n",
        "# sets are unordered collections"
      ],
      "metadata": {
        "colab": {
          "base_uri": "https://localhost:8080/"
        },
        "id": "7mZO6RjlrapX",
        "outputId": "5296feed-e6c1-42be-8bf5-88e84dcf45be"
      },
      "execution_count": null,
      "outputs": [
        {
          "output_type": "execute_result",
          "data": {
            "text/plain": [
              "complex"
            ]
          },
          "metadata": {},
          "execution_count": 6
        }
      ]
    },
    {
      "cell_type": "markdown",
      "source": [
        "10. What is PEP 8?"
      ],
      "metadata": {
        "id": "CBF95AJdun22"
      }
    },
    {
      "cell_type": "code",
      "source": [
        "Pep8 is a document provides various guidelines to write the readable in python.\n",
        "P E P = PYTHON ENTERPRISE PROPOSAL (PROVIDE CODING STYLE)"
      ],
      "metadata": {
        "id": "JBr6Xs6zuqXi"
      },
      "execution_count": null,
      "outputs": []
    },
    {
      "cell_type": "markdown",
      "source": [
        "### HOW DO YOU DISPLAY CONTNENTS OF TEXT FILE IN REVERSE ORDER"
      ],
      "metadata": {
        "id": "nn-gjHnAutzE"
      }
    },
    {
      "cell_type": "code",
      "source": [
        "with open('EXAMPLE.TXT', 'r') as file:\n",
        "  lines = file.readlines()\n",
        "for line in reversed(lines):\n",
        "  print(line.strip())"
      ],
      "metadata": {
        "colab": {
          "base_uri": "https://localhost:8080/"
        },
        "id": "arRbWK15uxsK",
        "outputId": "43b02aff-415c-4b90-afb6-f1d3a68f7e4a"
      },
      "execution_count": null,
      "outputs": [
        {
          "output_type": "stream",
          "name": "stdout",
          "text": [
            "you are akatsuki\n",
            "I AM RAJNISH\n"
          ]
        }
      ]
    },
    {
      "cell_type": "code",
      "source": [
        "with open('EXAMPLE.TXT', 'r') as file:\n",
        "  content = file.read()\n",
        "print(content[::-1])"
      ],
      "metadata": {
        "colab": {
          "base_uri": "https://localhost:8080/"
        },
        "id": "s6QzzJSouyx4",
        "outputId": "af1cf932-5a68-41d3-9bd8-10a2cfc60a0b"
      },
      "execution_count": null,
      "outputs": [
        {
          "output_type": "stream",
          "name": "stdout",
          "text": [
            "ikustaka era uoy\n",
            "HSINJAR MA I\n"
          ]
        }
      ]
    },
    {
      "cell_type": "markdown",
      "source": [
        "### differen bw append() and extend()"
      ],
      "metadata": {
        "id": "bhifusNVyR8O"
      }
    },
    {
      "cell_type": "code",
      "source": [
        "lst = [1,2,3]\n",
        "lst.append(4)\n",
        "lst"
      ],
      "metadata": {
        "colab": {
          "base_uri": "https://localhost:8080/"
        },
        "id": "UeDhWLd-uzms",
        "outputId": "cc73d2ad-9367-4807-9be1-f5c2d4891303"
      },
      "execution_count": null,
      "outputs": [
        {
          "output_type": "execute_result",
          "data": {
            "text/plain": [
              "[1, 2, 3, 4]"
            ]
          },
          "metadata": {},
          "execution_count": 25
        }
      ]
    },
    {
      "cell_type": "code",
      "source": [
        "lst = [1,2,3]\n",
        "lst.extend(4)\n",
        "lst"
      ],
      "metadata": {
        "colab": {
          "base_uri": "https://localhost:8080/",
          "height": 182
        },
        "id": "dUWgQB-yuz4u",
        "outputId": "aa90c48f-f0a9-431f-a943-e71ccfcd2604"
      },
      "execution_count": null,
      "outputs": [
        {
          "output_type": "error",
          "ename": "TypeError",
          "evalue": "'int' object is not iterable",
          "traceback": [
            "\u001b[0;31m---------------------------------------------------------------------------\u001b[0m",
            "\u001b[0;31mTypeError\u001b[0m                                 Traceback (most recent call last)",
            "\u001b[0;32m<ipython-input-26-3e7a1610716c>\u001b[0m in \u001b[0;36m<cell line: 0>\u001b[0;34m()\u001b[0m\n\u001b[1;32m      1\u001b[0m \u001b[0mlst\u001b[0m \u001b[0;34m=\u001b[0m \u001b[0;34m[\u001b[0m\u001b[0;36m1\u001b[0m\u001b[0;34m,\u001b[0m\u001b[0;36m2\u001b[0m\u001b[0;34m,\u001b[0m\u001b[0;36m3\u001b[0m\u001b[0;34m]\u001b[0m\u001b[0;34m\u001b[0m\u001b[0;34m\u001b[0m\u001b[0m\n\u001b[0;32m----> 2\u001b[0;31m \u001b[0mlst\u001b[0m\u001b[0;34m.\u001b[0m\u001b[0mextend\u001b[0m\u001b[0;34m(\u001b[0m\u001b[0;36m4\u001b[0m\u001b[0;34m)\u001b[0m\u001b[0;34m\u001b[0m\u001b[0;34m\u001b[0m\u001b[0m\n\u001b[0m\u001b[1;32m      3\u001b[0m \u001b[0mlst\u001b[0m\u001b[0;34m\u001b[0m\u001b[0;34m\u001b[0m\u001b[0m\n",
            "\u001b[0;31mTypeError\u001b[0m: 'int' object is not iterable"
          ]
        }
      ]
    },
    {
      "cell_type": "code",
      "source": [
        "# that's why\n",
        "lst = [1,2,3]\n",
        "lst.extend([4,5,6])\n",
        "lst"
      ],
      "metadata": {
        "colab": {
          "base_uri": "https://localhost:8080/"
        },
        "id": "zY7VYEv8u0Ig",
        "outputId": "9c1a18c2-8884-4a7d-fc98-2f2b571e6db2"
      },
      "execution_count": null,
      "outputs": [
        {
          "output_type": "execute_result",
          "data": {
            "text/plain": [
              "[1, 2, 3, 4, 5, 6]"
            ]
          },
          "metadata": {},
          "execution_count": 27
        }
      ]
    },
    {
      "cell_type": "markdown",
      "source": [
        "### What is output below justify it"
      ],
      "metadata": {
        "id": "4VgCrjl1y3dz"
      }
    },
    {
      "cell_type": "markdown",
      "source": [
        "NOTE: DEFAULT ARGS VALUE GENERATED ONCE\n",
        "SOMETIME SET DEFAULTS VALUE AS \"NONE\" FOR BEST PRACTICES."
      ],
      "metadata": {
        "id": "lfusNfDK3gRn"
      }
    },
    {
      "cell_type": "code",
      "source": [
        "def addToList(val, list=[]):\n",
        " list.append(val)\n",
        " return list\n",
        "\n",
        "list1 = addToList(1)  # [1]\n",
        "list2 = addToList(123,[]) # [123]\n",
        "list3 = addToList('a') # ['a']\n",
        "\n",
        "print(list1, list2, list3)\n",
        "# print (\"list1 = %s\" % list1) # [1, 'a']\n",
        "# print (\"list2 = %s\" % list2) # [123]\n",
        "# print (\"list3 = %s\" % list3) # [1, 'a']"
      ],
      "metadata": {
        "colab": {
          "base_uri": "https://localhost:8080/"
        },
        "id": "EEwv60O6u0YP",
        "outputId": "73de4438-6432-4249-f937-2c4ff8521589"
      },
      "execution_count": null,
      "outputs": [
        {
          "output_type": "stream",
          "name": "stdout",
          "text": [
            "[1, 'a'] [123] [1, 'a']\n"
          ]
        }
      ]
    },
    {
      "cell_type": "markdown",
      "source": [
        "### Difference between List & Tuples\n",
        "\n",
        "---\n",
        "Major difference is Mutability due to this everything affected between these.\n",
        "\n"
      ],
      "metadata": {
        "id": "GzTu49jj36Z9"
      }
    },
    {
      "cell_type": "markdown",
      "source": [
        "map() in python\n",
        "- map() in python applies specific function to each element of an iterable and returns iterator\n",
        "- syntax : map(func, iter, *iterables)\n",
        "- in python3 map() --> map obj ~ an iterator, cant view directly need to convert into another iterable"
      ],
      "metadata": {
        "id": "E-XP6vonecrs"
      }
    },
    {
      "cell_type": "code",
      "source": [
        "data = [1,2,4]\n",
        "\n",
        "def func(x):\n",
        "  return x*x\n",
        "res = map(func, data)\n",
        "print(res)\n",
        "print(list(res))"
      ],
      "metadata": {
        "id": "pf_4ELXUu0l9",
        "colab": {
          "base_uri": "https://localhost:8080/"
        },
        "outputId": "3682d947-9113-4019-a80e-60868832947e"
      },
      "execution_count": null,
      "outputs": [
        {
          "output_type": "stream",
          "name": "stdout",
          "text": [
            "<map object at 0x7f8a2849d450>\n",
            "[1, 4, 16]\n"
          ]
        }
      ]
    },
    {
      "cell_type": "code",
      "source": [
        "data1 = [1,2,4]\n",
        "data2 = [2,34,4]\n",
        "\n",
        "def func(x, y):\n",
        "  return x*y\n",
        "res = map(func, data1, data2)\n",
        "print(res)\n",
        "print(list(res))"
      ],
      "metadata": {
        "colab": {
          "base_uri": "https://localhost:8080/"
        },
        "id": "IQzBd8YzfuEA",
        "outputId": "263f28f2-df4a-4621-c922-7ced7a48827d"
      },
      "execution_count": null,
      "outputs": [
        {
          "output_type": "stream",
          "name": "stdout",
          "text": [
            "<map object at 0x7f8a281398a0>\n",
            "[2, 68, 16]\n"
          ]
        }
      ]
    },
    {
      "cell_type": "code",
      "source": [
        "data1 = [1,2,4]\n",
        "data2 = [2,34,4,5,6,7,8,9]\n",
        "\n",
        "def func(x, y):\n",
        "  return x*y\n",
        "res = map(func, data1, data2)\n",
        "print(res)\n",
        "print(list(res))"
      ],
      "metadata": {
        "colab": {
          "base_uri": "https://localhost:8080/"
        },
        "id": "vbiQzI6bgjVs",
        "outputId": "f9af953d-5c42-42be-a089-5d520ee65ca7"
      },
      "execution_count": null,
      "outputs": [
        {
          "output_type": "stream",
          "name": "stdout",
          "text": [
            "<map object at 0x7f8a2813b9a0>\n",
            "[2, 68, 16]\n"
          ]
        }
      ]
    },
    {
      "cell_type": "code",
      "source": [
        "data = [1,2,4]\n",
        "\n",
        "# def func(x):\n",
        "#   return x*x\n",
        "# instead directly use lambda function\n",
        "res = map(lambda x:x*x, data)\n",
        "print(res)\n",
        "print(list(res))"
      ],
      "metadata": {
        "colab": {
          "base_uri": "https://localhost:8080/"
        },
        "id": "YxXXzoJTgtRV",
        "outputId": "a97d701b-5576-44b3-c77c-4aa04ca9a611"
      },
      "execution_count": null,
      "outputs": [
        {
          "output_type": "stream",
          "name": "stdout",
          "text": [
            "<map object at 0x7f8a28445360>\n",
            "[1, 4, 16]\n"
          ]
        }
      ]
    },
    {
      "cell_type": "markdown",
      "source": [
        "Lambda() in Python\n",
        "- lambda args: expression\n",
        "- anonymous, inline funcs\n",
        "- small, one-time-use funcs"
      ],
      "metadata": {
        "id": "4oQ3Ms7XiERq"
      }
    },
    {
      "cell_type": "code",
      "source": [
        "square = lambda x: x*x\n",
        "square(5)"
      ],
      "metadata": {
        "colab": {
          "base_uri": "https://localhost:8080/"
        },
        "id": "CUCAPusvhUQF",
        "outputId": "b8ee4437-fe9c-4a57-ffe9-6ff3e3e19d58"
      },
      "execution_count": null,
      "outputs": [
        {
          "output_type": "execute_result",
          "data": {
            "text/plain": [
              "25"
            ]
          },
          "metadata": {},
          "execution_count": 6
        }
      ]
    },
    {
      "cell_type": "code",
      "source": [
        "add = lambda x,y:x+y\n",
        "add(2,3)"
      ],
      "metadata": {
        "colab": {
          "base_uri": "https://localhost:8080/"
        },
        "id": "04WvSJIYipgp",
        "outputId": "f469a580-7f0c-415a-8c51-043d61dc46d2"
      },
      "execution_count": null,
      "outputs": [
        {
          "output_type": "execute_result",
          "data": {
            "text/plain": [
              "5"
            ]
          },
          "metadata": {},
          "execution_count": 7
        }
      ]
    },
    {
      "cell_type": "code",
      "source": [
        "# used with filter() --> filter eles by specific conds, it is also applies the filtering func\n",
        "nums = [1,2,3,4,5,6,7,8]\n",
        "ans = filter(lambda x:x>5, nums)\n",
        "list(ans)"
      ],
      "metadata": {
        "colab": {
          "base_uri": "https://localhost:8080/"
        },
        "id": "qXXdfSjiiwS_",
        "outputId": "8307284b-039e-4fda-e5d2-79c4fe9932c3"
      },
      "execution_count": null,
      "outputs": [
        {
          "output_type": "execute_result",
          "data": {
            "text/plain": [
              "[6, 7, 8]"
            ]
          },
          "metadata": {},
          "execution_count": 9
        }
      ]
    },
    {
      "cell_type": "code",
      "source": [
        "words = [\"apple\", \"banana\", \"cherry\", \"date\"]\n",
        "sorted_words = sorted(words, key=lambda x: len(x))\n",
        "sorted_words"
      ],
      "metadata": {
        "colab": {
          "base_uri": "https://localhost:8080/"
        },
        "id": "C2cBDy8qjfPB",
        "outputId": "031d8d35-6dce-4c4e-d37d-327140f947a5"
      },
      "execution_count": null,
      "outputs": [
        {
          "output_type": "execute_result",
          "data": {
            "text/plain": [
              "['date', 'apple', 'banana', 'cherry']"
            ]
          },
          "metadata": {},
          "execution_count": 10
        }
      ]
    },
    {
      "cell_type": "code",
      "source": [
        "# reduce()\n",
        "from functools import reduce\n",
        "numbers = [1, 2, 3, 4]\n",
        "product = reduce(lambda x,y: x*y, numbers)\n",
        "product"
      ],
      "metadata": {
        "colab": {
          "base_uri": "https://localhost:8080/"
        },
        "id": "pOoUe8JhnAjQ",
        "outputId": "b6343bef-beaf-4489-86b7-9948200890b4"
      },
      "execution_count": null,
      "outputs": [
        {
          "output_type": "execute_result",
          "data": {
            "text/plain": [
              "24"
            ]
          },
          "metadata": {},
          "execution_count": 11
        }
      ]
    },
    {
      "cell_type": "code",
      "source": [
        "# reduce() --> cumulative operations on iterable data --> to one value, provided func must take 2 args\n",
        "# reduce(func, iterable[, initializer])\n",
        "from functools import reduce\n",
        "\n",
        "numbers = [1, 2, 3, 4, 5]\n",
        "def add(x, y):\n",
        "  return x+y\n",
        "result = reduce(add, numbers)\n",
        "print(result)\n",
        "\n",
        "result1 = reduce(lambda x, y: x+y, numbers)\n",
        "result1"
      ],
      "metadata": {
        "id": "q9CKYm7hn6O_",
        "colab": {
          "base_uri": "https://localhost:8080/"
        },
        "outputId": "51b6190a-2451-4dc9-ea5f-1ab76708fb4a"
      },
      "execution_count": null,
      "outputs": [
        {
          "output_type": "stream",
          "name": "stdout",
          "text": [
            "15\n"
          ]
        },
        {
          "output_type": "execute_result",
          "data": {
            "text/plain": [
              "15"
            ]
          },
          "metadata": {},
          "execution_count": 2
        }
      ]
    },
    {
      "cell_type": "markdown",
      "source": [
        "Zip () in python\n",
        "- pairing elements by their position\n",
        "- parallel iterations over multiple sequences\n",
        "- remember mulitple iterables\n",
        "- pairing in tuples\n",
        "- syntax: zip(*iterables)"
      ],
      "metadata": {
        "id": "pzMrONXoFyDB"
      }
    },
    {
      "cell_type": "code",
      "source": [
        "names = ['Alice', 'Bob', 'Charlie']\n",
        "scores = [85, 92, 78]\n",
        "list(zip(names, scores))"
      ],
      "metadata": {
        "colab": {
          "base_uri": "https://localhost:8080/"
        },
        "id": "yQEy8NotEIvd",
        "outputId": "62295020-243f-456b-d258-be75ae22b43d"
      },
      "execution_count": null,
      "outputs": [
        {
          "output_type": "execute_result",
          "data": {
            "text/plain": [
              "[('Alice', 85), ('Bob', 92), ('Charlie', 78)]"
            ]
          },
          "metadata": {},
          "execution_count": 4
        }
      ]
    },
    {
      "cell_type": "code",
      "source": [
        "from itertools import zip_longest\n",
        "\n",
        "names = ['Alice', 'Bob']\n",
        "scores = [85, 92, 78]\n",
        "\n",
        "list(zip_longest(names, scores, fillvalue=None))"
      ],
      "metadata": {
        "colab": {
          "base_uri": "https://localhost:8080/"
        },
        "id": "usj45HYWGrdr",
        "outputId": "68c99ac7-2dd6-4b78-e6e5-4d0b8cc9276a"
      },
      "execution_count": null,
      "outputs": [
        {
          "output_type": "execute_result",
          "data": {
            "text/plain": [
              "[('Alice', 85), ('Bob', 92), (None, 78)]"
            ]
          },
          "metadata": {},
          "execution_count": 5
        }
      ]
    },
    {
      "cell_type": "code",
      "source": [
        "# unzipping '*' operator\n",
        "zipped = [('Alice', 85), ('Bob', 92), ('Charlie', 78)]\n",
        "names, scores = zip(*zipped)\n",
        "print(type(names))\n",
        "print(scores)"
      ],
      "metadata": {
        "colab": {
          "base_uri": "https://localhost:8080/"
        },
        "id": "cDNbtQXgHWIA",
        "outputId": "c4d38a22-baf7-4eba-bc5c-720782e1d509"
      },
      "execution_count": null,
      "outputs": [
        {
          "output_type": "stream",
          "name": "stdout",
          "text": [
            "<class 'tuple'>\n",
            "(85, 92, 78)\n"
          ]
        }
      ]
    },
    {
      "cell_type": "markdown",
      "source": [
        "Itertools --> Python Module\n",
        "- provides fast memory efficient tools\n",
        "- for handling iterators\n",
        "\n",
        "functools --> Python module\n",
        "- provides higher-order functions\n",
        "- basically return other functions\n",
        "- useful for functional programming"
      ],
      "metadata": {
        "id": "BEQWCXfQBS7K"
      }
    },
    {
      "cell_type": "code",
      "source": [
        "# from google.colab import auth\n",
        "# auth.authenticate_user()\n",
        "\n",
        "!git clone https://github.com/lukas/ml-class.git"
      ],
      "metadata": {
        "colab": {
          "base_uri": "https://localhost:8080/"
        },
        "id": "wRq1fy_m1hfp",
        "outputId": "edbf0b6c-2e23-4775-a82e-2817077dba13"
      },
      "execution_count": null,
      "outputs": [
        {
          "output_type": "stream",
          "name": "stdout",
          "text": [
            "Cloning into 'ml-class'...\n",
            "remote: Enumerating objects: 9282, done.\u001b[K\n",
            "remote: Counting objects: 100% (13/13), done.\u001b[K\n",
            "remote: Compressing objects: 100% (8/8), done.\u001b[K\n",
            "remote: Total 9282 (delta 6), reused 5 (delta 5), pack-reused 9269 (from 3)\u001b[K\n",
            "Receiving objects: 100% (9282/9282), 136.25 MiB | 27.43 MiB/s, done.\n",
            "Resolving deltas: 100% (2316/2316), done.\n",
            "Updating files: 100% (5575/5575), done.\n"
          ]
        }
      ]
    },
    {
      "cell_type": "code",
      "source": [
        "! cd ml-class"
      ],
      "metadata": {
        "id": "MKj1n3BV22TJ"
      },
      "execution_count": null,
      "outputs": []
    },
    {
      "cell_type": "code",
      "source": [
        "! pip install -r /content/ml-class/requirements.txt"
      ],
      "metadata": {
        "colab": {
          "base_uri": "https://localhost:8080/"
        },
        "id": "QgxWb-ni3Pro",
        "outputId": "4726ed8d-146f-4810-e44a-f3793c5cc62c"
      },
      "execution_count": null,
      "outputs": [
        {
          "output_type": "stream",
          "name": "stdout",
          "text": [
            "Requirement already satisfied: tensorflow in /usr/local/lib/python3.11/dist-packages (from -r /content/ml-class/requirements.txt (line 1)) (2.18.0)\n",
            "Requirement already satisfied: keras in /usr/local/lib/python3.11/dist-packages (from -r /content/ml-class/requirements.txt (line 2)) (3.8.0)\n",
            "Requirement already satisfied: pandas in /usr/local/lib/python3.11/dist-packages (from -r /content/ml-class/requirements.txt (line 3)) (2.2.2)\n",
            "Requirement already satisfied: numpy in /usr/local/lib/python3.11/dist-packages (from -r /content/ml-class/requirements.txt (line 4)) (1.26.4)\n",
            "Requirement already satisfied: pillow in /usr/local/lib/python3.11/dist-packages (from -r /content/ml-class/requirements.txt (line 5)) (11.1.0)\n",
            "Requirement already satisfied: wandb in /usr/local/lib/python3.11/dist-packages (from -r /content/ml-class/requirements.txt (line 6)) (0.19.6)\n",
            "Requirement already satisfied: h5py in /usr/local/lib/python3.11/dist-packages (from -r /content/ml-class/requirements.txt (line 7)) (3.12.1)\n",
            "Requirement already satisfied: opencv-python in /usr/local/lib/python3.11/dist-packages (from -r /content/ml-class/requirements.txt (line 8)) (4.11.0.86)\n",
            "Requirement already satisfied: scikit-learn in /usr/local/lib/python3.11/dist-packages (from -r /content/ml-class/requirements.txt (line 9)) (1.6.1)\n",
            "Requirement already satisfied: scikit-image in /usr/local/lib/python3.11/dist-packages (from -r /content/ml-class/requirements.txt (line 10)) (0.25.1)\n",
            "Requirement already satisfied: absl-py>=1.0.0 in /usr/local/lib/python3.11/dist-packages (from tensorflow->-r /content/ml-class/requirements.txt (line 1)) (1.4.0)\n",
            "Requirement already satisfied: astunparse>=1.6.0 in /usr/local/lib/python3.11/dist-packages (from tensorflow->-r /content/ml-class/requirements.txt (line 1)) (1.6.3)\n",
            "Requirement already satisfied: flatbuffers>=24.3.25 in /usr/local/lib/python3.11/dist-packages (from tensorflow->-r /content/ml-class/requirements.txt (line 1)) (25.2.10)\n",
            "Requirement already satisfied: gast!=0.5.0,!=0.5.1,!=0.5.2,>=0.2.1 in /usr/local/lib/python3.11/dist-packages (from tensorflow->-r /content/ml-class/requirements.txt (line 1)) (0.6.0)\n",
            "Requirement already satisfied: google-pasta>=0.1.1 in /usr/local/lib/python3.11/dist-packages (from tensorflow->-r /content/ml-class/requirements.txt (line 1)) (0.2.0)\n",
            "Requirement already satisfied: libclang>=13.0.0 in /usr/local/lib/python3.11/dist-packages (from tensorflow->-r /content/ml-class/requirements.txt (line 1)) (18.1.1)\n",
            "Requirement already satisfied: opt-einsum>=2.3.2 in /usr/local/lib/python3.11/dist-packages (from tensorflow->-r /content/ml-class/requirements.txt (line 1)) (3.4.0)\n",
            "Requirement already satisfied: packaging in /usr/local/lib/python3.11/dist-packages (from tensorflow->-r /content/ml-class/requirements.txt (line 1)) (24.2)\n",
            "Requirement already satisfied: protobuf!=4.21.0,!=4.21.1,!=4.21.2,!=4.21.3,!=4.21.4,!=4.21.5,<6.0.0dev,>=3.20.3 in /usr/local/lib/python3.11/dist-packages (from tensorflow->-r /content/ml-class/requirements.txt (line 1)) (4.25.6)\n",
            "Requirement already satisfied: requests<3,>=2.21.0 in /usr/local/lib/python3.11/dist-packages (from tensorflow->-r /content/ml-class/requirements.txt (line 1)) (2.32.3)\n",
            "Requirement already satisfied: setuptools in /usr/local/lib/python3.11/dist-packages (from tensorflow->-r /content/ml-class/requirements.txt (line 1)) (75.1.0)\n",
            "Requirement already satisfied: six>=1.12.0 in /usr/local/lib/python3.11/dist-packages (from tensorflow->-r /content/ml-class/requirements.txt (line 1)) (1.17.0)\n",
            "Requirement already satisfied: termcolor>=1.1.0 in /usr/local/lib/python3.11/dist-packages (from tensorflow->-r /content/ml-class/requirements.txt (line 1)) (2.5.0)\n",
            "Requirement already satisfied: typing-extensions>=3.6.6 in /usr/local/lib/python3.11/dist-packages (from tensorflow->-r /content/ml-class/requirements.txt (line 1)) (4.12.2)\n",
            "Requirement already satisfied: wrapt>=1.11.0 in /usr/local/lib/python3.11/dist-packages (from tensorflow->-r /content/ml-class/requirements.txt (line 1)) (1.17.2)\n",
            "Requirement already satisfied: grpcio<2.0,>=1.24.3 in /usr/local/lib/python3.11/dist-packages (from tensorflow->-r /content/ml-class/requirements.txt (line 1)) (1.70.0)\n",
            "Requirement already satisfied: tensorboard<2.19,>=2.18 in /usr/local/lib/python3.11/dist-packages (from tensorflow->-r /content/ml-class/requirements.txt (line 1)) (2.18.0)\n",
            "Requirement already satisfied: ml-dtypes<0.5.0,>=0.4.0 in /usr/local/lib/python3.11/dist-packages (from tensorflow->-r /content/ml-class/requirements.txt (line 1)) (0.4.1)\n",
            "Requirement already satisfied: tensorflow-io-gcs-filesystem>=0.23.1 in /usr/local/lib/python3.11/dist-packages (from tensorflow->-r /content/ml-class/requirements.txt (line 1)) (0.37.1)\n",
            "Requirement already satisfied: rich in /usr/local/lib/python3.11/dist-packages (from keras->-r /content/ml-class/requirements.txt (line 2)) (13.9.4)\n",
            "Requirement already satisfied: namex in /usr/local/lib/python3.11/dist-packages (from keras->-r /content/ml-class/requirements.txt (line 2)) (0.0.8)\n",
            "Requirement already satisfied: optree in /usr/local/lib/python3.11/dist-packages (from keras->-r /content/ml-class/requirements.txt (line 2)) (0.14.0)\n",
            "Requirement already satisfied: python-dateutil>=2.8.2 in /usr/local/lib/python3.11/dist-packages (from pandas->-r /content/ml-class/requirements.txt (line 3)) (2.8.2)\n",
            "Requirement already satisfied: pytz>=2020.1 in /usr/local/lib/python3.11/dist-packages (from pandas->-r /content/ml-class/requirements.txt (line 3)) (2025.1)\n",
            "Requirement already satisfied: tzdata>=2022.7 in /usr/local/lib/python3.11/dist-packages (from pandas->-r /content/ml-class/requirements.txt (line 3)) (2025.1)\n",
            "Requirement already satisfied: click!=8.0.0,>=7.1 in /usr/local/lib/python3.11/dist-packages (from wandb->-r /content/ml-class/requirements.txt (line 6)) (8.1.8)\n",
            "Requirement already satisfied: docker-pycreds>=0.4.0 in /usr/local/lib/python3.11/dist-packages (from wandb->-r /content/ml-class/requirements.txt (line 6)) (0.4.0)\n",
            "Requirement already satisfied: gitpython!=3.1.29,>=1.0.0 in /usr/local/lib/python3.11/dist-packages (from wandb->-r /content/ml-class/requirements.txt (line 6)) (3.1.44)\n",
            "Requirement already satisfied: platformdirs in /usr/local/lib/python3.11/dist-packages (from wandb->-r /content/ml-class/requirements.txt (line 6)) (4.3.6)\n",
            "Requirement already satisfied: psutil>=5.0.0 in /usr/local/lib/python3.11/dist-packages (from wandb->-r /content/ml-class/requirements.txt (line 6)) (5.9.5)\n",
            "Requirement already satisfied: pydantic<3,>=2.6 in /usr/local/lib/python3.11/dist-packages (from wandb->-r /content/ml-class/requirements.txt (line 6)) (2.10.6)\n",
            "Requirement already satisfied: pyyaml in /usr/local/lib/python3.11/dist-packages (from wandb->-r /content/ml-class/requirements.txt (line 6)) (6.0.2)\n",
            "Requirement already satisfied: sentry-sdk>=2.0.0 in /usr/local/lib/python3.11/dist-packages (from wandb->-r /content/ml-class/requirements.txt (line 6)) (2.21.0)\n",
            "Requirement already satisfied: setproctitle in /usr/local/lib/python3.11/dist-packages (from wandb->-r /content/ml-class/requirements.txt (line 6)) (1.3.4)\n",
            "Requirement already satisfied: scipy>=1.6.0 in /usr/local/lib/python3.11/dist-packages (from scikit-learn->-r /content/ml-class/requirements.txt (line 9)) (1.13.1)\n",
            "Requirement already satisfied: joblib>=1.2.0 in /usr/local/lib/python3.11/dist-packages (from scikit-learn->-r /content/ml-class/requirements.txt (line 9)) (1.4.2)\n",
            "Requirement already satisfied: threadpoolctl>=3.1.0 in /usr/local/lib/python3.11/dist-packages (from scikit-learn->-r /content/ml-class/requirements.txt (line 9)) (3.5.0)\n",
            "Requirement already satisfied: networkx>=3.0 in /usr/local/lib/python3.11/dist-packages (from scikit-image->-r /content/ml-class/requirements.txt (line 10)) (3.4.2)\n",
            "Requirement already satisfied: imageio!=2.35.0,>=2.33 in /usr/local/lib/python3.11/dist-packages (from scikit-image->-r /content/ml-class/requirements.txt (line 10)) (2.37.0)\n",
            "Requirement already satisfied: tifffile>=2022.8.12 in /usr/local/lib/python3.11/dist-packages (from scikit-image->-r /content/ml-class/requirements.txt (line 10)) (2025.1.10)\n",
            "Requirement already satisfied: lazy-loader>=0.4 in /usr/local/lib/python3.11/dist-packages (from scikit-image->-r /content/ml-class/requirements.txt (line 10)) (0.4)\n",
            "Requirement already satisfied: wheel<1.0,>=0.23.0 in /usr/local/lib/python3.11/dist-packages (from astunparse>=1.6.0->tensorflow->-r /content/ml-class/requirements.txt (line 1)) (0.45.1)\n",
            "Requirement already satisfied: gitdb<5,>=4.0.1 in /usr/local/lib/python3.11/dist-packages (from gitpython!=3.1.29,>=1.0.0->wandb->-r /content/ml-class/requirements.txt (line 6)) (4.0.12)\n",
            "Requirement already satisfied: annotated-types>=0.6.0 in /usr/local/lib/python3.11/dist-packages (from pydantic<3,>=2.6->wandb->-r /content/ml-class/requirements.txt (line 6)) (0.7.0)\n",
            "Requirement already satisfied: pydantic-core==2.27.2 in /usr/local/lib/python3.11/dist-packages (from pydantic<3,>=2.6->wandb->-r /content/ml-class/requirements.txt (line 6)) (2.27.2)\n",
            "Requirement already satisfied: charset-normalizer<4,>=2 in /usr/local/lib/python3.11/dist-packages (from requests<3,>=2.21.0->tensorflow->-r /content/ml-class/requirements.txt (line 1)) (3.4.1)\n",
            "Requirement already satisfied: idna<4,>=2.5 in /usr/local/lib/python3.11/dist-packages (from requests<3,>=2.21.0->tensorflow->-r /content/ml-class/requirements.txt (line 1)) (3.10)\n",
            "Requirement already satisfied: urllib3<3,>=1.21.1 in /usr/local/lib/python3.11/dist-packages (from requests<3,>=2.21.0->tensorflow->-r /content/ml-class/requirements.txt (line 1)) (2.3.0)\n",
            "Requirement already satisfied: certifi>=2017.4.17 in /usr/local/lib/python3.11/dist-packages (from requests<3,>=2.21.0->tensorflow->-r /content/ml-class/requirements.txt (line 1)) (2025.1.31)\n",
            "Requirement already satisfied: markdown>=2.6.8 in /usr/local/lib/python3.11/dist-packages (from tensorboard<2.19,>=2.18->tensorflow->-r /content/ml-class/requirements.txt (line 1)) (3.7)\n",
            "Requirement already satisfied: tensorboard-data-server<0.8.0,>=0.7.0 in /usr/local/lib/python3.11/dist-packages (from tensorboard<2.19,>=2.18->tensorflow->-r /content/ml-class/requirements.txt (line 1)) (0.7.2)\n",
            "Requirement already satisfied: werkzeug>=1.0.1 in /usr/local/lib/python3.11/dist-packages (from tensorboard<2.19,>=2.18->tensorflow->-r /content/ml-class/requirements.txt (line 1)) (3.1.3)\n",
            "Requirement already satisfied: markdown-it-py>=2.2.0 in /usr/local/lib/python3.11/dist-packages (from rich->keras->-r /content/ml-class/requirements.txt (line 2)) (3.0.0)\n",
            "Requirement already satisfied: pygments<3.0.0,>=2.13.0 in /usr/local/lib/python3.11/dist-packages (from rich->keras->-r /content/ml-class/requirements.txt (line 2)) (2.18.0)\n",
            "Requirement already satisfied: smmap<6,>=3.0.1 in /usr/local/lib/python3.11/dist-packages (from gitdb<5,>=4.0.1->gitpython!=3.1.29,>=1.0.0->wandb->-r /content/ml-class/requirements.txt (line 6)) (5.0.2)\n",
            "Requirement already satisfied: mdurl~=0.1 in /usr/local/lib/python3.11/dist-packages (from markdown-it-py>=2.2.0->rich->keras->-r /content/ml-class/requirements.txt (line 2)) (0.1.2)\n",
            "Requirement already satisfied: MarkupSafe>=2.1.1 in /usr/local/lib/python3.11/dist-packages (from werkzeug>=1.0.1->tensorboard<2.19,>=2.18->tensorflow->-r /content/ml-class/requirements.txt (line 1)) (3.0.2)\n"
          ]
        }
      ]
    },
    {
      "cell_type": "code",
      "source": [
        "from keras.datasets import mnist\n",
        "from keras.models import Sequential\n",
        "from keras.layers import Dense, Flatten, Dropout\n",
        "from keras.utils import np_utils"
      ],
      "metadata": {
        "id": "piyX3_5bHyZc",
        "colab": {
          "base_uri": "https://localhost:8080/",
          "height": 380
        },
        "outputId": "d3030e70-b429-4890-d038-efb974469a8b"
      },
      "execution_count": null,
      "outputs": [
        {
          "output_type": "error",
          "ename": "ImportError",
          "evalue": "cannot import name 'np_utils' from 'keras.utils' (/usr/local/lib/python3.11/dist-packages/keras/api/utils/__init__.py)",
          "traceback": [
            "\u001b[0;31m---------------------------------------------------------------------------\u001b[0m",
            "\u001b[0;31mImportError\u001b[0m                               Traceback (most recent call last)",
            "\u001b[0;32m<ipython-input-17-ee53ad5ab0e5>\u001b[0m in \u001b[0;36m<cell line: 0>\u001b[0;34m()\u001b[0m\n\u001b[1;32m      2\u001b[0m \u001b[0;32mfrom\u001b[0m \u001b[0mkeras\u001b[0m\u001b[0;34m.\u001b[0m\u001b[0mmodels\u001b[0m \u001b[0;32mimport\u001b[0m \u001b[0mSequential\u001b[0m\u001b[0;34m\u001b[0m\u001b[0;34m\u001b[0m\u001b[0m\n\u001b[1;32m      3\u001b[0m \u001b[0;32mfrom\u001b[0m \u001b[0mkeras\u001b[0m\u001b[0;34m.\u001b[0m\u001b[0mlayers\u001b[0m \u001b[0;32mimport\u001b[0m \u001b[0mDense\u001b[0m\u001b[0;34m,\u001b[0m \u001b[0mFlatten\u001b[0m\u001b[0;34m,\u001b[0m \u001b[0mDropout\u001b[0m\u001b[0;34m\u001b[0m\u001b[0;34m\u001b[0m\u001b[0m\n\u001b[0;32m----> 4\u001b[0;31m \u001b[0;32mfrom\u001b[0m \u001b[0mkeras\u001b[0m\u001b[0;34m.\u001b[0m\u001b[0mutils\u001b[0m \u001b[0;32mimport\u001b[0m \u001b[0mnp_utils\u001b[0m\u001b[0;34m\u001b[0m\u001b[0;34m\u001b[0m\u001b[0m\n\u001b[0m",
            "\u001b[0;31mImportError\u001b[0m: cannot import name 'np_utils' from 'keras.utils' (/usr/local/lib/python3.11/dist-packages/keras/api/utils/__init__.py)",
            "",
            "\u001b[0;31m---------------------------------------------------------------------------\u001b[0;32m\nNOTE: If your import is failing due to a missing package, you can\nmanually install dependencies using either !pip or !apt.\n\nTo view examples of installing some common dependencies, click the\n\"Open Examples\" button below.\n\u001b[0;31m---------------------------------------------------------------------------\u001b[0m\n"
          ],
          "errorDetails": {
            "actions": [
              {
                "action": "open_url",
                "actionText": "Open Examples",
                "url": "/notebooks/snippets/importing_libraries.ipynb"
              }
            ]
          }
        }
      ]
    },
    {
      "cell_type": "code",
      "source": [],
      "metadata": {
        "id": "_tMJ717D0WIp"
      },
      "execution_count": null,
      "outputs": []
    },
    {
      "cell_type": "markdown",
      "source": [
        "# 🏭 How Big Companies Use Deep Learning For Recommendation Engines"
      ],
      "metadata": {
        "id": "ArOEeD2il8Gj"
      }
    },
    {
      "cell_type": "markdown",
      "source": [
        "✅ Embedding Based Recommendations (Netflix, Spotify)\n",
        " - Spotify uses word2vec like models to create embeddings\n",
        " - User should like next\n",
        "\n",
        "✅ Transformers based models (TikTok, Youtube)\n",
        " - self-attention models (bert4rec, sasrec)\n",
        " - engage with next content\n",
        "\n",
        "✅ Mutli-objective Learning (amazon, facebook)\n",
        " - optimized multiple goals e.g. clicks, watch time, conversions\n",
        " - This --> These also\n",
        "\n",
        "✅ Reinforcements learning for personalizaiton (youtube,google ads)\n",
        " - youtube ranking algo optimize watch time while diversifying recommendations\n",
        " - Exploration & Exploitation\n",
        "\n",
        "✅ Graph Neural Netwroks for complex relations (pinterest, linkedin)"
      ],
      "metadata": {
        "id": "enWRws8KNVo8"
      }
    },
    {
      "cell_type": "code",
      "source": [],
      "metadata": {
        "id": "HMgKAVDfzwBR"
      },
      "execution_count": null,
      "outputs": []
    },
    {
      "cell_type": "markdown",
      "source": [
        "# 📊 Normal Distribution\n",
        " - Gaussian distribution\n",
        " - Probability Density Function (distribution)\n",
        " - Bell-shaped Curve\n",
        " - Symmetric about the mean\n",
        " - mean(μ), median, mode\n",
        " - standard deviation(σ)\n",
        " - 68-95-99.7 Rule (empirical Rule)\n",
        " - apply to continuous data not discrete data\n",
        "\n",
        " <img src=\"https://media.geeksforgeeks.org/wp-content/uploads/20230901155813/Probability-Distribution-Curve.png\">"
      ],
      "metadata": {
        "id": "uyOuMqO25dsb"
      }
    },
    {
      "cell_type": "markdown",
      "source": [
        "# Standard Normal Distribution (Z-score)\n",
        " - mean = 0\n",
        " - standard deviation = 1\n",
        " - z-score formula to convert any normal distribution to standard normal distribution\n",
        " - $ Z = (X - μ) / σ $\n",
        " - This helps compare different dataset\n",
        "\n",
        " <img src=\"https://dcx0p3on5z8dw.cloudfront.net/Aakash/s3fs-public/pdf_management_files/target_solutions/z%20score%20image%201.png?YDMmfAIyUTJoFkpxIYTe6NLcBrJrca_W%E2%80%9Dwidth=\" width=600 height=300>"
      ],
      "metadata": {
        "id": "TRN0r3EaZwZp"
      }
    },
    {
      "cell_type": "markdown",
      "source": [
        "# Why is it important\n",
        " - statistical inference (hypothesis testing, confidence intervals)\n",
        " - ML models assume normality (e.g. linear regression residuals)"
      ],
      "metadata": {
        "id": "jgCvNrSrcANs"
      }
    },
    {
      "cell_type": "markdown",
      "source": [
        "# How to check if data is normally distributed\n",
        "✅ Histogram\n",
        "\n",
        "✅ QQ-plot(should be a straight line)\n",
        "\n",
        "✅ Shapiro-Wilk Test / Kolmogorov-Smirnov Test"
      ],
      "metadata": {
        "id": "5v8jOkrXcfj_"
      }
    },
    {
      "cell_type": "code",
      "source": [
        "import numpy as np\n",
        "import matplotlib.pyplot as plt\n",
        "from scipy.stats import norm\n",
        "\n",
        "# Define parameters\n",
        "mu = 0     # Mean\n",
        "sigma = 1  # Standard deviation\n",
        "\n",
        "# Generate data\n",
        "x = np.linspace(-4, 4, 1000)  # Range of values\n",
        "y = norm.pdf(x, mu, sigma)    # Compute normal distribution"
      ],
      "metadata": {
        "id": "nIuN1wHDZvo_"
      },
      "execution_count": null,
      "outputs": []
    },
    {
      "cell_type": "code",
      "source": [
        "x.shape"
      ],
      "metadata": {
        "collapsed": true,
        "colab": {
          "base_uri": "https://localhost:8080/"
        },
        "id": "YDcGkDipil28",
        "outputId": "baccda1e-0732-4e13-fb00-bc097c423e31"
      },
      "execution_count": null,
      "outputs": [
        {
          "output_type": "execute_result",
          "data": {
            "text/plain": [
              "(1000,)"
            ]
          },
          "metadata": {},
          "execution_count": 4
        }
      ]
    },
    {
      "cell_type": "code",
      "source": [
        "y.shape"
      ],
      "metadata": {
        "colab": {
          "base_uri": "https://localhost:8080/"
        },
        "id": "n6tQOopvipJC",
        "outputId": "bf2d6516-78a8-4df4-9885-3705d4300d0b"
      },
      "execution_count": null,
      "outputs": [
        {
          "output_type": "execute_result",
          "data": {
            "text/plain": [
              "(1000,)"
            ]
          },
          "metadata": {},
          "execution_count": 5
        }
      ]
    },
    {
      "cell_type": "code",
      "source": [
        "# Plot\n",
        "plt.plot(x, y, label=\"Normal Distribution (μ=0, σ=1)\")\n",
        "plt.xlabel(\"X\")\n",
        "plt.ylabel(\"Probability Density\")\n",
        "plt.title(\"Standard Normal Distribution\")\n",
        "plt.legend()\n",
        "plt.grid()\n",
        "plt.show()"
      ],
      "metadata": {
        "colab": {
          "base_uri": "https://localhost:8080/",
          "height": 472
        },
        "id": "WiXf_i6JiO4o",
        "outputId": "a8cee88c-4e7c-4054-eb35-71d18f7647b2"
      },
      "execution_count": null,
      "outputs": [
        {
          "output_type": "display_data",
          "data": {
            "text/plain": [
              "<Figure size 640x480 with 1 Axes>"
            ],
            "image/png": "[encoded data removed]"
          },
          "metadata": {}
        }
      ]
    },
    {
      "cell_type": "code",
      "source": [
        "sample_data = np.array([1.5, -0.5, 2.0, -1.2])  # Example data points\n",
        "z_scores = (sample_data - mu) / sigma  # Z-score formula\n",
        "\n",
        "print(\"Z-Scores:\", z_scores)"
      ],
      "metadata": {
        "colab": {
          "base_uri": "https://localhost:8080/"
        },
        "id": "pmWGX1_AivM0",
        "outputId": "1bb1d8fe-11b7-4abe-d924-b9204358334a"
      },
      "execution_count": null,
      "outputs": [
        {
          "output_type": "stream",
          "name": "stdout",
          "text": [
            "Z-Scores: [ 1.5 -0.5  2.  -1.2]\n"
          ]
        }
      ]
    },
    {
      "cell_type": "code",
      "source": [
        "# Palindrome String\n",
        "def palindrome_string(string: str):\n",
        "  return string==''.join(reversed(string))\n",
        "\n",
        "print(palindrome_string('malayalam'))\n",
        "print(palindrome_string('baab'))\n",
        "\"\"\"\n",
        "There is lots of way to do it, you can use python built-in function just like\n",
        "I used reversed but it returned an iterator object that's why i need to implement\n",
        "one more logic, you can also slicing technique for reversing the string and then\n",
        "compare og and sliced one in reversed order(string[::-1]).\n",
        "\n",
        "I think we can optimize it with binary search algo.\n",
        "\"\"\""
      ],
      "metadata": {
        "id": "cmRjcFilky5n",
        "colab": {
          "base_uri": "https://localhost:8080/",
          "height": 126
        },
        "outputId": "8a3fe65c-06aa-41d3-f51a-149fa382b9c3"
      },
      "execution_count": null,
      "outputs": [
        {
          "output_type": "stream",
          "name": "stdout",
          "text": [
            "True\n",
            "True\n"
          ]
        },
        {
          "output_type": "execute_result",
          "data": {
            "text/plain": [
              "\"\\nThere is lots of way to do it, you can use python built-in function just like\\nI used reversed but it returned an iterator object that's why i need to implement\\none more logic, you can also slicing technique for reversing the string and then\\ncompare og and sliced one in reversed order(string[::-1]).\\n\\nI think we can optimize it with binary search algo.\\n\""
            ],
            "application/vnd.google.colaboratory.intrinsic+json": {
              "type": "string"
            }
          },
          "metadata": {},
          "execution_count": 17
        }
      ]
    },
    {
      "cell_type": "code",
      "source": [
        "# factorial of a number\n",
        "import sys\n",
        "from tqdm import tqdm\n",
        "\n",
        "sys.set_int_max_str_digits(0) # this will help in increasing in limits of digits\n",
        "\n",
        "def factorial(num: int):\n",
        "  ans = 1\n",
        "  for i in tqdm(range(1,num+1)):\n",
        "    ans = ans*i\n",
        "  print(ans.bit_length())\n",
        "  print(ans)\n",
        "  return len(str(ans))\n",
        "\n",
        "print(factorial(100000))"
      ],
      "metadata": {
        "colab": {
          "base_uri": "https://localhost:8080/",
          "height": 327
        },
        "id": "pydq4lopMDNw",
        "outputId": "28223e35-47cc-44c3-998d-79bc24e19d8f"
      },
      "execution_count": null,
      "outputs": [
        {
          "output_type": "stream",
          "name": "stderr",
          "text": [
            " 46%|████▌     | 457552/1000000 [01:02<01:14, 7281.17it/s]\n"
          ]
        },
        {
          "output_type": "error",
          "ename": "KeyboardInterrupt",
          "evalue": "",
          "traceback": [
            "\u001b[0;31m---------------------------------------------------------------------------\u001b[0m",
            "\u001b[0;31mKeyboardInterrupt\u001b[0m                         Traceback (most recent call last)",
            "\u001b[0;32m<ipython-input-41-b722bd39d01d>\u001b[0m in \u001b[0;36m<cell line: 0>\u001b[0;34m()\u001b[0m\n\u001b[1;32m     12\u001b[0m   \u001b[0;32mreturn\u001b[0m \u001b[0mlen\u001b[0m\u001b[0;34m(\u001b[0m\u001b[0mstr\u001b[0m\u001b[0;34m(\u001b[0m\u001b[0mans\u001b[0m\u001b[0;34m)\u001b[0m\u001b[0;34m)\u001b[0m\u001b[0;34m\u001b[0m\u001b[0;34m\u001b[0m\u001b[0m\n\u001b[1;32m     13\u001b[0m \u001b[0;34m\u001b[0m\u001b[0m\n\u001b[0;32m---> 14\u001b[0;31m \u001b[0mprint\u001b[0m\u001b[0;34m(\u001b[0m\u001b[0mfactorial\u001b[0m\u001b[0;34m(\u001b[0m\u001b[0;36m1000000\u001b[0m\u001b[0;34m)\u001b[0m\u001b[0;34m)\u001b[0m\u001b[0;34m\u001b[0m\u001b[0;34m\u001b[0m\u001b[0m\n\u001b[0m",
            "\u001b[0;32m<ipython-input-41-b722bd39d01d>\u001b[0m in \u001b[0;36mfactorial\u001b[0;34m(num)\u001b[0m\n\u001b[1;32m      7\u001b[0m   \u001b[0mans\u001b[0m \u001b[0;34m=\u001b[0m \u001b[0;36m1\u001b[0m\u001b[0;34m\u001b[0m\u001b[0;34m\u001b[0m\u001b[0m\n\u001b[1;32m      8\u001b[0m   \u001b[0;32mfor\u001b[0m \u001b[0mi\u001b[0m \u001b[0;32min\u001b[0m \u001b[0mtqdm\u001b[0m\u001b[0;34m(\u001b[0m\u001b[0mrange\u001b[0m\u001b[0;34m(\u001b[0m\u001b[0;36m1\u001b[0m\u001b[0;34m,\u001b[0m\u001b[0mnum\u001b[0m\u001b[0;34m+\u001b[0m\u001b[0;36m1\u001b[0m\u001b[0;34m)\u001b[0m\u001b[0;34m)\u001b[0m\u001b[0;34m:\u001b[0m\u001b[0;34m\u001b[0m\u001b[0;34m\u001b[0m\u001b[0m\n\u001b[0;32m----> 9\u001b[0;31m     \u001b[0mans\u001b[0m \u001b[0;34m=\u001b[0m \u001b[0mans\u001b[0m\u001b[0;34m*\u001b[0m\u001b[0mi\u001b[0m\u001b[0;34m\u001b[0m\u001b[0;34m\u001b[0m\u001b[0m\n\u001b[0m\u001b[1;32m     10\u001b[0m   \u001b[0mprint\u001b[0m\u001b[0;34m(\u001b[0m\u001b[0mans\u001b[0m\u001b[0;34m.\u001b[0m\u001b[0mbit_length\u001b[0m\u001b[0;34m(\u001b[0m\u001b[0;34m)\u001b[0m\u001b[0;34m)\u001b[0m\u001b[0;34m\u001b[0m\u001b[0;34m\u001b[0m\u001b[0m\n\u001b[1;32m     11\u001b[0m   \u001b[0mprint\u001b[0m\u001b[0;34m(\u001b[0m\u001b[0mans\u001b[0m\u001b[0;34m)\u001b[0m\u001b[0;34m\u001b[0m\u001b[0;34m\u001b[0m\u001b[0m\n",
            "\u001b[0;31mKeyboardInterrupt\u001b[0m: "
          ]
        }
      ]
    },
    {
      "cell_type": "code",
      "source": [
        "# recursive approach\n",
        "# knowledge we have 1! = 0! = 1 right.. so based on this we write the base or exit case\n",
        "def fact(n):\n",
        "  if n == 1 or n==0:\n",
        "    return 1\n",
        "  ans = n*fact(n-1)\n",
        "  return ans\n",
        "print(fact(6))"
      ],
      "metadata": {
        "id": "GXYiyUlsLshs",
        "colab": {
          "base_uri": "https://localhost:8080/"
        },
        "outputId": "cff80451-5dfd-4f16-9c1d-aae8279d0dd7"
      },
      "execution_count": null,
      "outputs": [
        {
          "output_type": "stream",
          "name": "stdout",
          "text": [
            "720\n"
          ]
        }
      ]
    },
    {
      "cell_type": "code",
      "source": [
        "# sum of first N natural numbers\n",
        "def sum_n(n):\n",
        "  if n==0 or n==1:\n",
        "    return n\n",
        "  return n+sum_n(n-1)\n",
        "print(sum_n(8))"
      ],
      "metadata": {
        "colab": {
          "base_uri": "https://localhost:8080/"
        },
        "id": "RF_42wtI1Nog",
        "outputId": "8608217d-c210-4d4f-eb5a-f0de7e494ddb"
      },
      "execution_count": null,
      "outputs": [
        {
          "output_type": "stream",
          "name": "stdout",
          "text": [
            "36\n"
          ]
        }
      ]
    },
    {
      "cell_type": "code",
      "source": [
        "def sum_n(n):\n",
        "  return n/2*(1+n)\n",
        "print(sum_n(8))"
      ],
      "metadata": {
        "colab": {
          "base_uri": "https://localhost:8080/"
        },
        "id": "5F2oYY1O4x8c",
        "outputId": "c1deab25-de02-472f-9cf6-736189aeff29"
      },
      "execution_count": null,
      "outputs": [
        {
          "output_type": "stream",
          "name": "stdout",
          "text": [
            "36.0\n"
          ]
        }
      ]
    },
    {
      "cell_type": "code",
      "source": [
        "# counting digits in a number\n",
        "digits = 1000\n",
        "print(len(str(digits)))"
      ],
      "metadata": {
        "colab": {
          "base_uri": "https://localhost:8080/"
        },
        "id": "UHs-pC895N3e",
        "outputId": "b5fdd972-9c0d-4e5f-b96a-a1f73f9a5bb2"
      },
      "execution_count": null,
      "outputs": [
        {
          "output_type": "stream",
          "name": "stdout",
          "text": [
            "4\n"
          ]
        }
      ]
    },
    {
      "cell_type": "code",
      "source": [
        "245//10"
      ],
      "metadata": {
        "colab": {
          "base_uri": "https://localhost:8080/"
        },
        "id": "-Ecbz7MA5l3v",
        "outputId": "b5802dfb-3974-4cb7-8c7b-ff74c2e9c8d4"
      },
      "execution_count": null,
      "outputs": [
        {
          "output_type": "execute_result",
          "data": {
            "text/plain": [
              "24"
            ]
          },
          "metadata": {},
          "execution_count": 14
        }
      ]
    },
    {
      "cell_type": "code",
      "source": [
        "24//10"
      ],
      "metadata": {
        "colab": {
          "base_uri": "https://localhost:8080/"
        },
        "id": "Nox5ZEbo6EXE",
        "outputId": "abb575c4-4f53-4525-b790-3eef5c8b6454"
      },
      "execution_count": null,
      "outputs": [
        {
          "output_type": "execute_result",
          "data": {
            "text/plain": [
              "2"
            ]
          },
          "metadata": {},
          "execution_count": 15
        }
      ]
    },
    {
      "cell_type": "code",
      "source": [
        "2//10"
      ],
      "metadata": {
        "colab": {
          "base_uri": "https://localhost:8080/"
        },
        "id": "Ru8IU1em6GJO",
        "outputId": "82d06d4e-fe28-4861-98ca-61c553a0e0cb"
      },
      "execution_count": null,
      "outputs": [
        {
          "output_type": "execute_result",
          "data": {
            "text/plain": [
              "0"
            ]
          },
          "metadata": {},
          "execution_count": 16
        }
      ]
    },
    {
      "cell_type": "markdown",
      "source": [
        "3 steps are required to obtain 0 that number of digits are in 245 is 3."
      ],
      "metadata": {
        "id": "EmQHOy1x6MEo"
      }
    },
    {
      "cell_type": "code",
      "source": [
        "# multiplication table for a number\n",
        "n =17\n",
        "for i in range(1,11):\n",
        "  print(f'{n} x {i} ==> ',i*n)"
      ],
      "metadata": {
        "colab": {
          "base_uri": "https://localhost:8080/"
        },
        "id": "a28qiIWk6Hjq",
        "outputId": "0d34ed36-a749-4154-a940-2c3d1ba868cd"
      },
      "execution_count": null,
      "outputs": [
        {
          "output_type": "stream",
          "name": "stdout",
          "text": [
            "17 x 1 ==>  17\n",
            "17 x 2 ==>  34\n",
            "17 x 3 ==>  51\n",
            "17 x 4 ==>  68\n",
            "17 x 5 ==>  85\n",
            "17 x 6 ==>  102\n",
            "17 x 7 ==>  119\n",
            "17 x 8 ==>  136\n",
            "17 x 9 ==>  153\n",
            "17 x 10 ==>  170\n"
          ]
        }
      ]
    },
    {
      "cell_type": "code",
      "source": [
        "# largest number in a list\n",
        "mylist = [101, 62, 66, 45, 99, 18, 266, 18]\n",
        "mylist.sort() # timsort nlog(n)\n",
        "print(mylist[-1])\n",
        "print(max(mylist))\n",
        "mylist"
      ],
      "metadata": {
        "id": "EhCnrXaI69kG",
        "colab": {
          "base_uri": "https://localhost:8080/"
        },
        "outputId": "4acde550-ffc0-48f2-e655-19da85a1d26e"
      },
      "execution_count": null,
      "outputs": [
        {
          "output_type": "stream",
          "name": "stdout",
          "text": [
            "266\n",
            "266\n"
          ]
        },
        {
          "output_type": "execute_result",
          "data": {
            "text/plain": [
              "[18, 18, 45, 62, 66, 99, 101, 266]"
            ]
          },
          "metadata": {},
          "execution_count": 6
        }
      ]
    },
    {
      "cell_type": "code",
      "source": [
        "# fibonacci Number\n",
        "# 0, 1, 1, 2, 3, 5, 8, .....\n",
        "# f(0) = 0, f(1) = 1, f(n) = f(n-1)+f(n-2)\n",
        "def f(n):\n",
        "  if n==1:\n",
        "    return 0\n",
        "  if n == 2:\n",
        "    return 1\n",
        "  return f(n-1)+f(n-2)\n",
        "f(10)"
      ],
      "metadata": {
        "id": "SyA27Y7n7uP3",
        "colab": {
          "base_uri": "https://localhost:8080/"
        },
        "outputId": "423d6881-0095-469f-d496-36ac3bbc9d82"
      },
      "execution_count": null,
      "outputs": [
        {
          "output_type": "execute_result",
          "data": {
            "text/plain": [
              "34"
            ]
          },
          "metadata": {},
          "execution_count": 12
        }
      ]
    },
    {
      "cell_type": "code",
      "source": [
        "# prime number\n",
        "# 1, 2, 3, 5, 7, .....\n",
        "import math\n",
        "def prime(n):\n",
        "  for i in range(2, int(math.sqrt(n))+1):# we can save time here by iterarting just n/2+1 times instead of whole number\n",
        "    if n% i ==0:\n",
        "      print(f'{n} is not prime')\n",
        "      break\n",
        "  else:\n",
        "    print(f'{n} is Prime')\n",
        "prime(9)\n",
        "# i solved this from o(n) to o(n^(1/2))\n",
        "# How cool is this :-)"
      ],
      "metadata": {
        "id": "dxJ9x3Zi712v",
        "colab": {
          "base_uri": "https://localhost:8080/"
        },
        "outputId": "a2dc1de8-7d68-4b91-b4af-e61f9cbde91d"
      },
      "execution_count": null,
      "outputs": [
        {
          "output_type": "stream",
          "name": "stdout",
          "text": [
            "9 is not prime\n"
          ]
        }
      ]
    },
    {
      "cell_type": "markdown",
      "source": [
        "# Altair"
      ],
      "metadata": {
        "id": "SrCA38Yjj-_-"
      }
    },
    {
      "cell_type": "code",
      "source": [
        "! pip install altair"
      ],
      "metadata": {
        "colab": {
          "base_uri": "https://localhost:8080/"
        },
        "id": "-CQV00whkw7C",
        "outputId": "acd7c625-483d-41b5-ae67-6fbcb5c3814d"
      },
      "execution_count": null,
      "outputs": [
        {
          "output_type": "stream",
          "name": "stdout",
          "text": [
            "Requirement already satisfied: altair in /usr/local/lib/python3.11/dist-packages (5.5.0)\n",
            "Requirement already satisfied: jinja2 in /usr/local/lib/python3.11/dist-packages (from altair) (3.1.6)\n",
            "Requirement already satisfied: jsonschema>=3.0 in /usr/local/lib/python3.11/dist-packages (from altair) (4.23.0)\n",
            "Requirement already satisfied: narwhals>=1.14.2 in /usr/local/lib/python3.11/dist-packages (from altair) (1.30.0)\n",
            "Requirement already satisfied: packaging in /usr/local/lib/python3.11/dist-packages (from altair) (24.2)\n",
            "Requirement already satisfied: typing-extensions>=4.10.0 in /usr/local/lib/python3.11/dist-packages (from altair) (4.12.2)\n",
            "Requirement already satisfied: attrs>=22.2.0 in /usr/local/lib/python3.11/dist-packages (from jsonschema>=3.0->altair) (25.2.0)\n",
            "Requirement already satisfied: jsonschema-specifications>=2023.03.6 in /usr/local/lib/python3.11/dist-packages (from jsonschema>=3.0->altair) (2024.10.1)\n",
            "Requirement already satisfied: referencing>=0.28.4 in /usr/local/lib/python3.11/dist-packages (from jsonschema>=3.0->altair) (0.36.2)\n",
            "Requirement already satisfied: rpds-py>=0.7.1 in /usr/local/lib/python3.11/dist-packages (from jsonschema>=3.0->altair) (0.23.1)\n",
            "Requirement already satisfied: MarkupSafe>=2.0 in /usr/local/lib/python3.11/dist-packages (from jinja2->altair) (3.0.2)\n"
          ]
        }
      ]
    },
    {
      "cell_type": "code",
      "source": [
        "import altair as alt\n",
        "import pandas as pd\n",
        "\n",
        "data = pd.DataFrame({\n",
        "    'x': range(10),\n",
        "    'y': [val**2 for val in range(10)]\n",
        "})\n",
        "\n",
        "chart = alt.Chart(data).mark_circle(size=60).encode(\n",
        "    x='x',\n",
        "    y='y',\n",
        "    color=alt.value('blue')\n",
        ")\n",
        "chart.show()"
      ],
      "metadata": {
        "colab": {
          "base_uri": "https://localhost:8080/",
          "height": 368
        },
        "id": "2lxdVA0BcLCA",
        "outputId": "aaf3f1f9-b7ef-4fec-9524-0616b57d6fa7"
      },
      "execution_count": null,
      "outputs": [
        {
          "output_type": "display_data",
          "data": {
            "text/html": [
              "\n",
              "<style>\n",
              "  #altair-viz-7e5f5f4177c54895a16babf2b04ca48d.vega-embed {\n",
              "    width: 100%;\n",
              "    display: flex;\n",
              "  }\n",
              "\n",
              "  #altair-viz-7e5f5f4177c54895a16babf2b04ca48d.vega-embed details,\n",
              "  #altair-viz-7e5f5f4177c54895a16babf2b04ca48d.vega-embed details summary {\n",
              "    position: relative;\n",
              "  }\n",
              "</style>\n",
              "<div id=\"altair-viz-7e5f5f4177c54895a16babf2b04ca48d\"></div>\n",
              "<script type=\"text/javascript\">\n",
              "  var VEGA_DEBUG = (typeof VEGA_DEBUG == \"undefined\") ? {} : VEGA_DEBUG;\n",
              "  (function(spec, embedOpt){\n",
              "    let outputDiv = document.currentScript.previousElementSibling;\n",
              "    if (outputDiv.id !== \"altair-viz-7e5f5f4177c54895a16babf2b04ca48d\") {\n",
              "      outputDiv = document.getElementById(\"altair-viz-7e5f5f4177c54895a16babf2b04ca48d\");\n",
              "    }\n",
              "\n",
              "    const paths = {\n",
              "      \"vega\": \"https://cdn.jsdelivr.net/npm/vega@5?noext\",\n",
              "      \"vega-lib\": \"https://cdn.jsdelivr.net/npm/vega-lib?noext\",\n",
              "      \"vega-lite\": \"https://cdn.jsdelivr.net/npm/vega-lite@5.20.1?noext\",\n",
              "      \"vega-embed\": \"https://cdn.jsdelivr.net/npm/vega-embed@6?noext\",\n",
              "    };\n",
              "\n",
              "    function maybeLoadScript(lib, version) {\n",
              "      var key = `${lib.replace(\"-\", \"\")}_version`;\n",
              "      return (VEGA_DEBUG[key] == version) ?\n",
              "        Promise.resolve(paths[lib]) :\n",
              "        new Promise(function(resolve, reject) {\n",
              "          var s = document.createElement('script');\n",
              "          document.getElementsByTagName(\"head\")[0].appendChild(s);\n",
              "          s.async = true;\n",
              "          s.onload = () => {\n",
              "            VEGA_DEBUG[key] = version;\n",
              "            return resolve(paths[lib]);\n",
              "          };\n",
              "          s.onerror = () => reject(`Error loading script: ${paths[lib]}`);\n",
              "          s.src = paths[lib];\n",
              "        });\n",
              "    }\n",
              "\n",
              "    function showError(err) {\n",
              "      outputDiv.innerHTML = `<div class=\"error\" style=\"color:red;\">${err}</div>`;\n",
              "      throw err;\n",
              "    }\n",
              "\n",
              "    function displayChart(vegaEmbed) {\n",
              "      vegaEmbed(outputDiv, spec, embedOpt)\n",
              "        .catch(err => showError(`Javascript Error: ${err.message}<br>This usually means there's a typo in your chart specification. See the javascript console for the full traceback.`));\n",
              "    }\n",
              "\n",
              "    if(typeof define === \"function\" && define.amd) {\n",
              "      requirejs.config({paths});\n",
              "      let deps = [\"vega-embed\"];\n",
              "      require(deps, displayChart, err => showError(`Error loading script: ${err.message}`));\n",
              "    } else {\n",
              "      maybeLoadScript(\"vega\", \"5\")\n",
              "        .then(() => maybeLoadScript(\"vega-lite\", \"5.20.1\"))\n",
              "        .then(() => maybeLoadScript(\"vega-embed\", \"6\"))\n",
              "        .catch(showError)\n",
              "        .then(() => displayChart(vegaEmbed));\n",
              "    }\n",
              "  })({\"config\": {\"view\": {\"continuousWidth\": 300, \"continuousHeight\": 300}}, \"data\": {\"name\": \"data-25e9b537fd8682b390a9198dd3c032bc\"}, \"mark\": {\"type\": \"circle\", \"size\": 60}, \"encoding\": {\"color\": {\"value\": \"blue\"}, \"x\": {\"field\": \"x\", \"type\": \"quantitative\"}, \"y\": {\"field\": \"y\", \"type\": \"quantitative\"}}, \"$schema\": \"https://vega.github.io/schema/vega-lite/v5.20.1.json\", \"datasets\": {\"data-25e9b537fd8682b390a9198dd3c032bc\": [{\"x\": 0, \"y\": 0}, {\"x\": 1, \"y\": 1}, {\"x\": 2, \"y\": 4}, {\"x\": 3, \"y\": 9}, {\"x\": 4, \"y\": 16}, {\"x\": 5, \"y\": 25}, {\"x\": 6, \"y\": 36}, {\"x\": 7, \"y\": 49}, {\"x\": 8, \"y\": 64}, {\"x\": 9, \"y\": 81}]}}, {\"mode\": \"vega-lite\"});\n",
              "</script>"
            ],
            "text/plain": [
              "alt.Chart(...)"
            ]
          },
          "metadata": {}
        }
      ]
    },
    {
      "cell_type": "code",
      "source": [
        "pandas\n",
        "numpy\n",
        "requests\n",
        "scipy\n",
        "DateTime\n",
        "scikit-learn\n",
        "xgboost\n",
        "tensorflow\n",
        "keras\n",
        "pytorch\n",
        "opencv\n",
        "nltk\n",
        "spacy\n",
        "pytest\n",
        "unittest\n",
        "librosa"
      ],
      "metadata": {
        "id": "_uM6uKu_kmm9"
      },
      "execution_count": null,
      "outputs": []
    },
    {
      "cell_type": "markdown",
      "source": [
        "# Remember these terms:\n",
        "- Mean\n",
        "- Median\n",
        "- Standard Deviation\n",
        "- Variance"
      ],
      "metadata": {
        "id": "xuo7Lzb0gFTO"
      }
    },
    {
      "cell_type": "markdown",
      "source": [
        "# ✅ boxplot\n",
        "- show the distribution of dataset, helps in identify outliers, median, quartile, spread of the data\n",
        "\n",
        "### why?\n",
        "- easily shows the data distribution (Spread and skewness)\n",
        "- helps in extreme values\n",
        "- comparing multiple datasets\n",
        "\n",
        "### where?\n",
        "- EDA\n",
        "- outliers\n",
        "- comparing different groups\n",
        "\n",
        "### How to read ?\n",
        "- whisker (lower & upper)(min & max) excluding outliers\n",
        "- Q1 (25% of data)\n",
        "- median (50% of data) middle value of dataset\n",
        "- Q3 (75% of data)\n",
        "\n",
        "### outliers --> 1.5* IQR (beyond this we have extreme values), points outside the whiskers"
      ],
      "metadata": {
        "id": "XC1wDtMGcqWi"
      }
    },
    {
      "cell_type": "markdown",
      "source": [
        "## Steps to Read a Boxplot:\n",
        "\n",
        "✅ Look at the Median → If centered, data is symmetric; if shifted, data is skewed.\n",
        "\n",
        "✅ Check Whiskers → Longer whiskers indicate higher variance.\n",
        "\n",
        "✅ Identify Outliers → Dots outside the whiskers are potential outliers.\n",
        "\n",
        "✅ Compare Multiple Boxplots → Helps compare distributions across categories."
      ],
      "metadata": {
        "id": "sZnfjsN3fugg"
      }
    },
    {
      "cell_type": "markdown",
      "source": [
        "# ✅ Violin Plot\n",
        "- kernel distribution estimation"
      ],
      "metadata": {
        "id": "APQypdAgSv2F"
      }
    },
    {
      "cell_type": "markdown",
      "source": [
        "# What do you mean by this?\n",
        "    if __name__ == \"__main__\":\n",
        "      print(X)\n",
        "      some_func()\n",
        "- in a module (a python file) when we try to run the script or module directly the_ _name_ _ variable of module (built-in for every script or module) automatically set to '_ _main_ _'\n",
        "- but when import that module the _ _name_ _ variable to script name (without .py) so the if part skipped"
      ],
      "metadata": {
        "id": "UBAxd77qAJpV"
      }
    },
    {
      "cell_type": "code",
      "source": [
        "# script.py\n",
        "def greet():\n",
        "  print('Hello!!')\n",
        "\n",
        "if __name__ ==\"__main__\":\n",
        "  print('running script directly')\n",
        "  greet()"
      ],
      "metadata": {
        "colab": {
          "base_uri": "https://localhost:8080/"
        },
        "id": "ZFjazqYu_XvJ",
        "outputId": "d7a46dfb-2f20-40bf-a81d-69be9de4c28f"
      },
      "execution_count": null,
      "outputs": [
        {
          "output_type": "stream",
          "name": "stdout",
          "text": [
            "running script directly\n",
            "Hello!!\n"
          ]
        }
      ]
    },
    {
      "cell_type": "code",
      "source": [
        "! python script.py"
      ],
      "metadata": {
        "id": "wzKw4EnobaiH",
        "colab": {
          "base_uri": "https://localhost:8080/"
        },
        "outputId": "c4d66efb-2bc6-4c4b-d012-c213d930a771"
      },
      "execution_count": null,
      "outputs": [
        {
          "output_type": "stream",
          "name": "stdout",
          "text": [
            "python3: can't open file '/content/script.py': [Errno 2] No such file or directory\n"
          ]
        }
      ]
    },
    {
      "cell_type": "markdown",
      "source": [
        "# what do you mean by modular programs?\n",
        "- A modular program is a program that is divided into independent, reusable, and manageable parts (modules). Each module performs a specific task and can be used separately or combined with other modules.\n",
        "- Modular programming makes code organized, reusable, and scalable, which is why it's widely used in software development."
      ],
      "metadata": {
        "id": "bEqAfs7UFx3M"
      }
    },
    {
      "cell_type": "markdown",
      "source": [
        "- object oriented programming (based on objects rather than just functions and logics) (OOP languages use objects to structure programs efficiently, making code modular and reusable.)\n",
        "- functional programming (Functional programming focuses on writing pure functions, immutability, and avoiding side effects for better maintainability)\n",
        "- modular programming\n",
        "- non-modular programming (monolithic programming)"
      ],
      "metadata": {
        "id": "0l4SZEr0H-Jt"
      }
    },
    {
      "cell_type": "markdown",
      "source": [
        "# Ugency - Importance Matrix\n",
        "\n",
        "\n",
        "1.   if the task is **urgent** and **important** --> **DO** it immediately\n",
        "2.   if the task is **important** but not urgent --> **PLAN** to do it later\n",
        "3.   if the task is **urgent** but not important --> you can **DELEGATE** to someone else\n",
        "4.   if the task is not urgent and not important --> **ELIMINATE** this\n",
        "\n",
        "        <img src=\"https://rushcuttershealth.com.au/wp-content/uploads/2021/06/The-Urgent-vs-Important-Matrix-768x737.png\" width=600 height=400>\n"
      ],
      "metadata": {
        "id": "a1V05uP_PKRd"
      }
    },
    {
      "cell_type": "code",
      "source": [],
      "metadata": {
        "id": "Vdse6CJIPJiM"
      },
      "execution_count": null,
      "outputs": []
    },
    {
      "cell_type": "code",
      "source": [],
      "metadata": {
        "id": "-SX4gi20CdAk"
      },
      "execution_count": null,
      "outputs": []
    }
  ],
  "metadata": {
    "colab": {
      "provenance": [],
      "gpuType": "T4",
      "authorship_tag": "ABX9TyN7Pq5dN7xR4bJyuMd0CSqi",
      "include_colab_link": true
    },
    "kernelspec": {
      "display_name": "Python 3",
      "name": "python3"
    },
    "language_info": {
      "name": "python"
    },
    "accelerator": "GPU"
  },
  "nbformat": 4,
  "nbformat_minor": 0
}